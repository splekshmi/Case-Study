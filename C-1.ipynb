{
 "cells": [
  {
   "cell_type": "markdown",
   "id": "54783de5",
   "metadata": {},
   "source": [
    "## <center>Case study on Presentation of data\n",
    "                 "
   ]
  },
  {
   "cell_type": "markdown",
   "id": "1e02b5a9",
   "metadata": {},
   "source": [
    "### 1) Reading the dataset to python environment"
   ]
  },
  {
   "cell_type": "code",
   "execution_count": 10,
   "id": "7f959845",
   "metadata": {},
   "outputs": [],
   "source": [
    "import pandas as pd\n",
    "dc = pd.read_csv('cars_data.csv')"
   ]
  },
  {
   "cell_type": "markdown",
   "id": "e4da6ffb",
   "metadata": {},
   "source": [
    "### 2)Checking for the null values present in the dataset"
   ]
  },
  {
   "cell_type": "code",
   "execution_count": 13,
   "id": "d38edf24",
   "metadata": {},
   "outputs": [
    {
     "name": "stdout",
     "output_type": "stream",
     "text": [
      "Null values not present\n"
     ]
    }
   ],
   "source": [
    "%matplotlib inline\n",
    "if(dc.isna().values.any()==False):                \n",
    "    print('Null values not present')\n",
    "else:print('Null values present')  "
   ]
  },
  {
   "cell_type": "markdown",
   "id": "c45dba63",
   "metadata": {},
   "source": [
    "### 3)Plot a bar graph of male vs female buyers participated in the sales"
   ]
  },
  {
   "cell_type": "code",
   "execution_count": 7,
   "id": "92fef038",
   "metadata": {},
   "outputs": [
    {
     "data": {
      "text/plain": [
       "<matplotlib.legend.Legend at 0x1ef22222e80>"
      ]
     },
     "execution_count": 7,
     "metadata": {},
     "output_type": "execute_result"
    },
    {
     "data": {
      "image/png": "[encoded data removed]",
      "text/plain": [
       "<Figure size 432x432 with 1 Axes>"
      ]
     },
     "metadata": {
      "needs_background": "light"
     },
     "output_type": "display_data"
    }
   ],
   "source": [
    "import matplotlib.pyplot as plt\n",
    "import numpy as np\n",
    "import matplotlib.patches as mpatches       # for customizing legends \n",
    "plt.figure(figsize=(6,6))\n",
    "plt.title('Male vs Female buyers participated in car sales',fontsize=18)\n",
    "dc['Buyer Gender'].value_counts(ascending=True).plot(kind='bar',color=['Orange', 'Green'],width = 0.5)\n",
    "plt.xlabel('Buyer Gender',fontsize=14) \n",
    "plt.ylabel('Number of buyers',fontsize=14)\n",
    "plt.xticks(rotation=0)\n",
    "plt.grid()\n",
    "arr=dc['Buyer Gender'].unique()  # to get the unique values: Male and Female from 'Buyer Gender'\n",
    "leg_1 = mpatches.Patch(color='Orange',label=arr[1])\n",
    "leg_2 = mpatches.Patch(color='Green',label=arr[0])\n",
    "plt.legend(handles=[leg_1,leg_2],bbox_to_anchor=(1.3, 0.6)) # using bbox_to_anchor for displaying the legends outside the graph"
   ]
  },
  {
   "cell_type": "markdown",
   "id": "987b705e",
   "metadata": {},
   "source": [
    "### 4) Find the top 5 cars based on their sales price"
   ]
  },
  {
   "cell_type": "code",
   "execution_count": 4,
   "id": "2f2de988",
   "metadata": {},
   "outputs": [
    {
     "data": {
      "text/html": [
       "<style type=\"text/css\">\n",
       "</style>\n",
       "<table id=\"T_be4ef_\">\n",
       "  <thead>\n",
       "    <tr>\n",
       "      <th class=\"col_heading level0 col0\" >Make</th>\n",
       "      <th class=\"col_heading level0 col1\" >Model</th>\n",
       "    </tr>\n",
       "  </thead>\n",
       "  <tbody>\n",
       "    <tr>\n",
       "      <td id=\"T_be4ef_row0_col0\" class=\"data row0 col0\" >Volkswagen</td>\n",
       "      <td id=\"T_be4ef_row0_col1\" class=\"data row0 col1\" >Jetta III</td>\n",
       "    </tr>\n",
       "    <tr>\n",
       "      <td id=\"T_be4ef_row1_col0\" class=\"data row1 col0\" >Audi</td>\n",
       "      <td id=\"T_be4ef_row1_col1\" class=\"data row1 col1\" >A6</td>\n",
       "    </tr>\n",
       "    <tr>\n",
       "      <td id=\"T_be4ef_row2_col0\" class=\"data row2 col0\" >Lexus</td>\n",
       "      <td id=\"T_be4ef_row2_col1\" class=\"data row2 col1\" >LX</td>\n",
       "    </tr>\n",
       "    <tr>\n",
       "      <td id=\"T_be4ef_row3_col0\" class=\"data row3 col0\" >Mazda</td>\n",
       "      <td id=\"T_be4ef_row3_col1\" class=\"data row3 col1\" >MX-6</td>\n",
       "    </tr>\n",
       "    <tr>\n",
       "      <td id=\"T_be4ef_row4_col0\" class=\"data row4 col0\" >Lexus</td>\n",
       "      <td id=\"T_be4ef_row4_col1\" class=\"data row4 col1\" >ES</td>\n",
       "    </tr>\n",
       "  </tbody>\n",
       "</table>\n"
      ],
      "text/plain": [
       "<pandas.io.formats.style.Styler at 0x1ef22298bb0>"
      ]
     },
     "execution_count": 4,
     "metadata": {},
     "output_type": "execute_result"
    }
   ],
   "source": [
    "dc1 = dc.sort_values(by=['Sale Price'],ascending=False)\n",
    "dc1[['Make','Model']].head(5).style.hide_index()  # to view index numbers as well, just need to avoid style.hide_index()"
   ]
  },
  {
   "cell_type": "markdown",
   "id": "51a148f6",
   "metadata": {},
   "source": [
    "### 5) Find the least 5 cars based on their Resell price."
   ]
  },
  {
   "cell_type": "code",
   "execution_count": 5,
   "id": "6e225f4f",
   "metadata": {},
   "outputs": [
    {
     "data": {
      "text/html": [
       "<style type=\"text/css\">\n",
       "</style>\n",
       "<table id=\"T_9746c_\">\n",
       "  <thead>\n",
       "    <tr>\n",
       "      <th class=\"col_heading level0 col0\" >Make</th>\n",
       "      <th class=\"col_heading level0 col1\" >Model</th>\n",
       "    </tr>\n",
       "  </thead>\n",
       "  <tbody>\n",
       "    <tr>\n",
       "      <td id=\"T_9746c_row0_col0\" class=\"data row0 col0\" >Chevrolet</td>\n",
       "      <td id=\"T_9746c_row0_col1\" class=\"data row0 col1\" >1500</td>\n",
       "    </tr>\n",
       "    <tr>\n",
       "      <td id=\"T_9746c_row1_col0\" class=\"data row1 col0\" >GMC</td>\n",
       "      <td id=\"T_9746c_row1_col1\" class=\"data row1 col1\" >Savana 1500</td>\n",
       "    </tr>\n",
       "    <tr>\n",
       "      <td id=\"T_9746c_row2_col0\" class=\"data row2 col0\" >Jaguar</td>\n",
       "      <td id=\"T_9746c_row2_col1\" class=\"data row2 col1\" >XF</td>\n",
       "    </tr>\n",
       "    <tr>\n",
       "      <td id=\"T_9746c_row3_col0\" class=\"data row3 col0\" >Mitsubishi</td>\n",
       "      <td id=\"T_9746c_row3_col1\" class=\"data row3 col1\" >3000GT</td>\n",
       "    </tr>\n",
       "    <tr>\n",
       "      <td id=\"T_9746c_row4_col0\" class=\"data row4 col0\" >Infiniti</td>\n",
       "      <td id=\"T_9746c_row4_col1\" class=\"data row4 col1\" >G37</td>\n",
       "    </tr>\n",
       "  </tbody>\n",
       "</table>\n"
      ],
      "text/plain": [
       "<pandas.io.formats.style.Styler at 0x1ef212f2df0>"
      ]
     },
     "execution_count": 5,
     "metadata": {},
     "output_type": "execute_result"
    }
   ],
   "source": [
    "dc2 = dc.sort_values(by=['Resell Price'],ascending=True)\n",
    "dc2[['Make','Model']].head(5).style.hide_index()      # to view index numbers as well, just need to avoid style.hide_index()"
   ]
  }
 ],
 "metadata": {
  "kernelspec": {
   "display_name": "Python 3 (ipykernel)",
   "language": "python",
   "name": "python3"
  },
  "language_info": {
   "codemirror_mode": {
    "name": "ipython",
    "version": 3
   },
   "file_extension": ".py",
   "mimetype": "text/x-python",
   "name": "python",
   "nbconvert_exporter": "python",
   "pygments_lexer": "ipython3",
   "version": "3.9.7"
  }
 },
 "nbformat": 4,
 "nbformat_minor": 5
}
