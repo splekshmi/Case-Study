{
 "cells": [
  {
   "cell_type": "markdown",
   "id": "56ed8f78",
   "metadata": {},
   "source": [
    "## <center>Case study on Supervised learning"
   ]
  },
  {
   "cell_type": "markdown",
   "id": "96b4d35f",
   "metadata": {},
   "source": [
    "### 1) Reading the dataset to python environment"
   ]
  },
  {
   "cell_type": "code",
   "execution_count": 1,
   "id": "01c43656",
   "metadata": {},
   "outputs": [],
   "source": [
    "import pandas as pd\n",
    "iris = pd.read_excel('iris.xls')"
   ]
  },
  {
   "cell_type": "code",
   "execution_count": 2,
   "id": "036411ab",
   "metadata": {},
   "outputs": [
    {
     "data": {
      "text/html": [
       "<div>\n",
       "<style scoped>\n",
       "    .dataframe tbody tr th:only-of-type {\n",
       "        vertical-align: middle;\n",
       "    }\n",
       "\n",
       "    .dataframe tbody tr th {\n",
       "        vertical-align: top;\n",
       "    }\n",
       "\n",
       "    .dataframe thead th {\n",
       "        text-align: right;\n",
       "    }\n",
       "</style>\n",
       "<table border=\"1\" class=\"dataframe\">\n",
       "  <thead>\n",
       "    <tr style=\"text-align: right;\">\n",
       "      <th></th>\n",
       "      <th>SL</th>\n",
       "      <th>SW</th>\n",
       "      <th>PL</th>\n",
       "      <th>PW</th>\n",
       "      <th>Classification</th>\n",
       "    </tr>\n",
       "  </thead>\n",
       "  <tbody>\n",
       "    <tr>\n",
       "      <th>0</th>\n",
       "      <td>5.1</td>\n",
       "      <td>3.5</td>\n",
       "      <td>1.4</td>\n",
       "      <td>0.2</td>\n",
       "      <td>Iris-setosa</td>\n",
       "    </tr>\n",
       "    <tr>\n",
       "      <th>1</th>\n",
       "      <td>4.9</td>\n",
       "      <td>3.0</td>\n",
       "      <td>1.4</td>\n",
       "      <td>0.2</td>\n",
       "      <td>Iris-setosa</td>\n",
       "    </tr>\n",
       "    <tr>\n",
       "      <th>2</th>\n",
       "      <td>NaN</td>\n",
       "      <td>3.2</td>\n",
       "      <td>1.3</td>\n",
       "      <td>0.2</td>\n",
       "      <td>Iris-setosa</td>\n",
       "    </tr>\n",
       "    <tr>\n",
       "      <th>3</th>\n",
       "      <td>4.6</td>\n",
       "      <td>3.1</td>\n",
       "      <td>1.5</td>\n",
       "      <td>0.2</td>\n",
       "      <td>Iris-setosa</td>\n",
       "    </tr>\n",
       "    <tr>\n",
       "      <th>4</th>\n",
       "      <td>5.0</td>\n",
       "      <td>3.6</td>\n",
       "      <td>1.4</td>\n",
       "      <td>0.2</td>\n",
       "      <td>Iris-setosa</td>\n",
       "    </tr>\n",
       "    <tr>\n",
       "      <th>...</th>\n",
       "      <td>...</td>\n",
       "      <td>...</td>\n",
       "      <td>...</td>\n",
       "      <td>...</td>\n",
       "      <td>...</td>\n",
       "    </tr>\n",
       "    <tr>\n",
       "      <th>145</th>\n",
       "      <td>6.7</td>\n",
       "      <td>3.0</td>\n",
       "      <td>5.2</td>\n",
       "      <td>2.3</td>\n",
       "      <td>Iris-virginica</td>\n",
       "    </tr>\n",
       "    <tr>\n",
       "      <th>146</th>\n",
       "      <td>6.3</td>\n",
       "      <td>2.5</td>\n",
       "      <td>5.0</td>\n",
       "      <td>1.9</td>\n",
       "      <td>Iris-virginica</td>\n",
       "    </tr>\n",
       "    <tr>\n",
       "      <th>147</th>\n",
       "      <td>6.5</td>\n",
       "      <td>3.0</td>\n",
       "      <td>NaN</td>\n",
       "      <td>2.0</td>\n",
       "      <td>Iris-virginica</td>\n",
       "    </tr>\n",
       "    <tr>\n",
       "      <th>148</th>\n",
       "      <td>6.2</td>\n",
       "      <td>3.4</td>\n",
       "      <td>5.4</td>\n",
       "      <td>2.3</td>\n",
       "      <td>Iris-virginica</td>\n",
       "    </tr>\n",
       "    <tr>\n",
       "      <th>149</th>\n",
       "      <td>5.9</td>\n",
       "      <td>3.0</td>\n",
       "      <td>5.1</td>\n",
       "      <td>1.8</td>\n",
       "      <td>Iris-virginica</td>\n",
       "    </tr>\n",
       "  </tbody>\n",
       "</table>\n",
       "<p>150 rows × 5 columns</p>\n",
       "</div>"
      ],
      "text/plain": [
       "      SL   SW   PL   PW  Classification\n",
       "0    5.1  3.5  1.4  0.2     Iris-setosa\n",
       "1    4.9  3.0  1.4  0.2     Iris-setosa\n",
       "2    NaN  3.2  1.3  0.2     Iris-setosa\n",
       "3    4.6  3.1  1.5  0.2     Iris-setosa\n",
       "4    5.0  3.6  1.4  0.2     Iris-setosa\n",
       "..   ...  ...  ...  ...             ...\n",
       "145  6.7  3.0  5.2  2.3  Iris-virginica\n",
       "146  6.3  2.5  5.0  1.9  Iris-virginica\n",
       "147  6.5  3.0  NaN  2.0  Iris-virginica\n",
       "148  6.2  3.4  5.4  2.3  Iris-virginica\n",
       "149  5.9  3.0  5.1  1.8  Iris-virginica\n",
       "\n",
       "[150 rows x 5 columns]"
      ]
     },
     "execution_count": 2,
     "metadata": {},
     "output_type": "execute_result"
    }
   ],
   "source": [
    "# checking the overall structure of the dataset\n",
    "iris"
   ]
  },
  {
   "cell_type": "markdown",
   "id": "c70354b5",
   "metadata": {},
   "source": [
    "The dataset consist of 150 rows and 5 columns"
   ]
  },
  {
   "cell_type": "markdown",
   "id": "a24da3d6",
   "metadata": {},
   "source": [
    "### 2) Pre-processing "
   ]
  },
  {
   "cell_type": "markdown",
   "id": "a9500b8f",
   "metadata": {},
   "source": [
    "#### 2.1) Checking for null values"
   ]
  },
  {
   "cell_type": "code",
   "execution_count": 3,
   "id": "5e6c9aee",
   "metadata": {},
   "outputs": [
    {
     "data": {
      "text/plain": [
       "SL                7\n",
       "SW                6\n",
       "PL                6\n",
       "PW                0\n",
       "Classification    0\n",
       "dtype: int64"
      ]
     },
     "execution_count": 3,
     "metadata": {},
     "output_type": "execute_result"
    }
   ],
   "source": [
    "iris.isna().sum()"
   ]
  },
  {
   "cell_type": "markdown",
   "id": "5ad6bfb0",
   "metadata": {},
   "source": [
    "There are 19 null values in which 7 are in SL column,6 in SW column and 6 in PL column"
   ]
  },
  {
   "cell_type": "markdown",
   "id": "97c2d324",
   "metadata": {},
   "source": [
    "#### 2.2) Filling the missing values"
   ]
  },
  {
   "cell_type": "code",
   "execution_count": 4,
   "id": "1552f5b2",
   "metadata": {},
   "outputs": [
    {
     "data": {
      "text/html": [
       "<div>\n",
       "<style scoped>\n",
       "    .dataframe tbody tr th:only-of-type {\n",
       "        vertical-align: middle;\n",
       "    }\n",
       "\n",
       "    .dataframe tbody tr th {\n",
       "        vertical-align: top;\n",
       "    }\n",
       "\n",
       "    .dataframe thead th {\n",
       "        text-align: right;\n",
       "    }\n",
       "</style>\n",
       "<table border=\"1\" class=\"dataframe\">\n",
       "  <thead>\n",
       "    <tr style=\"text-align: right;\">\n",
       "      <th></th>\n",
       "      <th>SL</th>\n",
       "      <th>SW</th>\n",
       "      <th>PL</th>\n",
       "    </tr>\n",
       "    <tr>\n",
       "      <th>Classification</th>\n",
       "      <th></th>\n",
       "      <th></th>\n",
       "      <th></th>\n",
       "    </tr>\n",
       "  </thead>\n",
       "  <tbody>\n",
       "    <tr>\n",
       "      <th>Iris-setosa</th>\n",
       "      <td>5.00</td>\n",
       "      <td>3.4</td>\n",
       "      <td>1.50</td>\n",
       "    </tr>\n",
       "    <tr>\n",
       "      <th>Iris-versicolor</th>\n",
       "      <td>5.85</td>\n",
       "      <td>2.8</td>\n",
       "      <td>4.35</td>\n",
       "    </tr>\n",
       "    <tr>\n",
       "      <th>Iris-virginica</th>\n",
       "      <td>6.50</td>\n",
       "      <td>3.0</td>\n",
       "      <td>5.55</td>\n",
       "    </tr>\n",
       "  </tbody>\n",
       "</table>\n",
       "</div>"
      ],
      "text/plain": [
       "                   SL   SW    PL\n",
       "Classification                  \n",
       "Iris-setosa      5.00  3.4  1.50\n",
       "Iris-versicolor  5.85  2.8  4.35\n",
       "Iris-virginica   6.50  3.0  5.55"
      ]
     },
     "execution_count": 4,
     "metadata": {},
     "output_type": "execute_result"
    }
   ],
   "source": [
    "# Filling the missing values by taking the median of respective column after grouping by Classification\n",
    "iris.groupby(['Classification'])[['SL','SW','PL']].median()"
   ]
  },
  {
   "cell_type": "code",
   "execution_count": 5,
   "id": "bbe671af",
   "metadata": {},
   "outputs": [],
   "source": [
    "iris['SL'] = iris['SL'].fillna(iris.groupby('Classification')['SL'].transform('median'))\n",
    "iris['SW'] = iris['SW'].fillna(iris.groupby('Classification')['SW'].transform('median'))\n",
    "iris['PL'] = iris['PL'].fillna(iris.groupby('Classification')['PL'].transform('median'))"
   ]
  },
  {
   "cell_type": "code",
   "execution_count": 6,
   "id": "eeffc904",
   "metadata": {},
   "outputs": [
    {
     "data": {
      "text/plain": [
       "SL                0\n",
       "SW                0\n",
       "PL                0\n",
       "PW                0\n",
       "Classification    0\n",
       "dtype: int64"
      ]
     },
     "execution_count": 6,
     "metadata": {},
     "output_type": "execute_result"
    }
   ],
   "source": [
    "# Confirming that missing values are filled\n",
    "iris.isna().sum()"
   ]
  },
  {
   "cell_type": "markdown",
   "id": "eb00efae",
   "metadata": {},
   "source": [
    "#### 2.3) Checking for outliers "
   ]
  },
  {
   "cell_type": "code",
   "execution_count": 7,
   "id": "9ae7b0c9",
   "metadata": {},
   "outputs": [
    {
     "data": {
      "text/plain": [
       "<AxesSubplot:>"
      ]
     },
     "execution_count": 7,
     "metadata": {},
     "output_type": "execute_result"
    },
    {
     "data": {
      "image/png": "[encoded data removed]",
      "text/plain": [
       "<Figure size 432x288 with 1 Axes>"
      ]
     },
     "metadata": {
      "needs_background": "light"
     },
     "output_type": "display_data"
    }
   ],
   "source": [
    "import seaborn as sns\n",
    "sns.boxplot(data=iris)"
   ]
  },
  {
   "cell_type": "code",
   "execution_count": 8,
   "id": "5df8322a",
   "metadata": {},
   "outputs": [
    {
     "name": "stdout",
     "output_type": "stream",
     "text": [
      "The  minimum and maximum value in SW column are  2.0 & 4.4 respectively\n"
     ]
    }
   ],
   "source": [
    "print('The  minimum and maximum value in SW column are ',iris['SW'].min(),'&',iris['SW'].max(),'respectively') "
   ]
  },
  {
   "cell_type": "markdown",
   "id": "8045c2e2",
   "metadata": {},
   "source": [
    "There are some outliers in SW column.Since the range of value for SW column is too small and  understandably outliers are part of the distribution and removing them would present a false representation of the problem.So leaving them as it is."
   ]
  },
  {
   "cell_type": "markdown",
   "id": "8ebdcf8c",
   "metadata": {},
   "source": [
    "#### 2.4) Encoding categorical column"
   ]
  },
  {
   "cell_type": "code",
   "execution_count": 9,
   "id": "782f2f6b",
   "metadata": {},
   "outputs": [
    {
     "name": "stdout",
     "output_type": "stream",
     "text": [
      "<class 'pandas.core.frame.DataFrame'>\n",
      "RangeIndex: 150 entries, 0 to 149\n",
      "Data columns (total 5 columns):\n",
      " #   Column          Non-Null Count  Dtype  \n",
      "---  ------          --------------  -----  \n",
      " 0   SL              150 non-null    float64\n",
      " 1   SW              150 non-null    float64\n",
      " 2   PL              150 non-null    float64\n",
      " 3   PW              150 non-null    float64\n",
      " 4   Classification  150 non-null    object \n",
      "dtypes: float64(4), object(1)\n",
      "memory usage: 6.0+ KB\n"
     ]
    }
   ],
   "source": [
    "iris.info()"
   ]
  },
  {
   "cell_type": "markdown",
   "id": "faea1e67",
   "metadata": {},
   "source": [
    "We have only one categorical column,Classification which is also the target column,so encoding can be done using label encoder\n",
    "\n",
    "But sklearn handles the text targets on its own and there is no need to encode."
   ]
  },
  {
   "cell_type": "raw",
   "id": "8e6f27c2",
   "metadata": {},
   "source": [
    "# This is how encoding works(just for documentation)\n",
    "from sklearn import preprocessing\n",
    "label_encoder = preprocessing.LabelEncoder()\n",
    "iris['Classification ']= label_encoder.fit_transform(iris['Classification'])"
   ]
  },
  {
   "cell_type": "markdown",
   "id": "7ae51aa5",
   "metadata": {},
   "source": [
    "###  3) Building the models"
   ]
  },
  {
   "cell_type": "code",
   "execution_count": 10,
   "id": "e368d1f5",
   "metadata": {},
   "outputs": [
    {
     "data": {
      "text/plain": [
       "Iris-setosa        50\n",
       "Iris-versicolor    50\n",
       "Iris-virginica     50\n",
       "Name: Classification, dtype: int64"
      ]
     },
     "execution_count": 10,
     "metadata": {},
     "output_type": "execute_result"
    }
   ],
   "source": [
    "#Classification is the target and to know the count of each class we use value_counts()\n",
    "iris['Classification'].value_counts()"
   ]
  },
  {
   "cell_type": "markdown",
   "id": "c4712790",
   "metadata": {},
   "source": [
    "Classification is equally distributed."
   ]
  },
  {
   "cell_type": "code",
   "execution_count": 11,
   "id": "4a843421",
   "metadata": {},
   "outputs": [],
   "source": [
    "# spliiting the dataset into features and target\n",
    "#taking 'Classification' as target(y) and all other as X\n",
    "X=iris.drop(['Classification'],axis=1)\n",
    "y=iris['Classification']"
   ]
  },
  {
   "cell_type": "code",
   "execution_count": 12,
   "id": "37225dd6",
   "metadata": {},
   "outputs": [],
   "source": [
    "# splitting into test and training set\n",
    "from sklearn.model_selection import train_test_split\n",
    "X_train,X_test,y_train,y_test=train_test_split(X,y,random_state=42,test_size=0.20)"
   ]
  },
  {
   "cell_type": "markdown",
   "id": "425a4fa4",
   "metadata": {},
   "source": [
    "Eventhough standard scaling is a preprocessing step,here it is done after train and test split for more convenience"
   ]
  },
  {
   "cell_type": "code",
   "execution_count": 13,
   "id": "308f4ad5",
   "metadata": {},
   "outputs": [],
   "source": [
    "#Standard Scaling \n",
    "from sklearn.preprocessing import StandardScaler\n",
    "std_slc = StandardScaler()\n",
    "std_slc.fit(X_train)\n",
    "X_train = std_slc.transform(X_train)\n",
    "X_test = std_slc.transform(X_test)"
   ]
  },
  {
   "cell_type": "code",
   "execution_count": 14,
   "id": "0c3a0eae",
   "metadata": {},
   "outputs": [
    {
     "data": {
      "text/plain": [
       "(120, 4)"
      ]
     },
     "execution_count": 14,
     "metadata": {},
     "output_type": "execute_result"
    }
   ],
   "source": [
    "# checking how many data points are there in the training set\n",
    "X_train.shape"
   ]
  },
  {
   "cell_type": "code",
   "execution_count": 15,
   "id": "7777fcd7",
   "metadata": {},
   "outputs": [
    {
     "data": {
      "text/plain": [
       "(30, 4)"
      ]
     },
     "execution_count": 15,
     "metadata": {},
     "output_type": "execute_result"
    }
   ],
   "source": [
    "# checking how many data points are there in the training set\n",
    "X_test.shape"
   ]
  },
  {
   "cell_type": "markdown",
   "id": "039c4914",
   "metadata": {},
   "source": [
    "There are 120 data points for training  and 30 data points for testing"
   ]
  },
  {
   "cell_type": "markdown",
   "id": "b0be6214",
   "metadata": {},
   "source": [
    "#### 3.1) Logistic regression"
   ]
  },
  {
   "cell_type": "code",
   "execution_count": 16,
   "id": "202bca51",
   "metadata": {},
   "outputs": [
    {
     "name": "stdout",
     "output_type": "stream",
     "text": [
      "Accuracy is: 0.967\n",
      "f1 score is: 0.967\n"
     ]
    }
   ],
   "source": [
    "from sklearn.linear_model import LogisticRegression\n",
    "from sklearn.metrics import accuracy_score,f1_score\n",
    "logit_model=LogisticRegression(random_state=42,multi_class='multinomial')\n",
    "logit_model.fit(X_train,y_train)\n",
    "y_pred=logit_model.predict(X_test)\n",
    "print(\"Accuracy is:\",round(accuracy_score(y_test,y_pred),3))\n",
    "print(\"f1 score is:\",round(f1_score(y_test,y_pred,average='micro'),3))"
   ]
  },
  {
   "cell_type": "markdown",
   "id": "8043d5d3",
   "metadata": {},
   "source": [
    "#### 3.2) SVM Classifier"
   ]
  },
  {
   "cell_type": "code",
   "execution_count": 28,
   "id": "09892d29",
   "metadata": {},
   "outputs": [
    {
     "name": "stdout",
     "output_type": "stream",
     "text": [
      "Accuracy is: 0.967\n",
      "f1 score is: 0.967\n"
     ]
    }
   ],
   "source": [
    "from sklearn.svm import SVC\n",
    "svm_model=SVC(random_state=42)\n",
    "svm_model.fit(X_train,y_train)\n",
    "y_pred=svm_model.predict(X_test)\n",
    "print(\"Accuracy is:\",round(accuracy_score(y_test,y_pred),3))\n",
    "print(\"f1 score is:\",round(f1_score(y_test,y_pred,average='micro'),3))"
   ]
  },
  {
   "cell_type": "markdown",
   "id": "c016ef0e",
   "metadata": {},
   "source": [
    "#### 3.3) KNN Classifier"
   ]
  },
  {
   "cell_type": "code",
   "execution_count": 18,
   "id": "3a30f2a4",
   "metadata": {},
   "outputs": [
    {
     "name": "stdout",
     "output_type": "stream",
     "text": [
      "Accuracy is: 0.967\n",
      "f1 score is: 0.967\n"
     ]
    }
   ],
   "source": [
    "from sklearn.neighbors import KNeighborsClassifier\n",
    "knn_model=KNeighborsClassifier()\n",
    "knn_model.fit(X_train,y_train)\n",
    "y_pred=knn_model.predict(X_test)\n",
    "print(\"Accuracy is:\",round(accuracy_score(y_test,y_pred),3))\n",
    "print(\"f1 score is:\",round(f1_score(y_test,y_pred,average='micro'),3))"
   ]
  },
  {
   "cell_type": "markdown",
   "id": "7c11d542",
   "metadata": {},
   "source": [
    "#### 3.4) Decision tree Classifier"
   ]
  },
  {
   "cell_type": "code",
   "execution_count": 19,
   "id": "d93befac",
   "metadata": {},
   "outputs": [
    {
     "name": "stdout",
     "output_type": "stream",
     "text": [
      "Accuracy is: 1.0\n",
      "f1 score is: 1.0\n"
     ]
    }
   ],
   "source": [
    "from sklearn.tree import DecisionTreeClassifier\n",
    "decision_tree=DecisionTreeClassifier(random_state=42)\n",
    "decision_tree.fit(X_train,y_train)\n",
    "y_pred=decision_tree.predict(X_test)\n",
    "print(\"Accuracy is:\",round(accuracy_score(y_test,y_pred),3))\n",
    "print(\"f1 score is:\",round(f1_score(y_test,y_pred,average='micro'),3))"
   ]
  },
  {
   "cell_type": "markdown",
   "id": "2405e2c3",
   "metadata": {},
   "source": [
    "#### 3.5) Random forest Classifier"
   ]
  },
  {
   "cell_type": "code",
   "execution_count": 20,
   "id": "0fb53d33",
   "metadata": {},
   "outputs": [
    {
     "name": "stdout",
     "output_type": "stream",
     "text": [
      "Accuracy is: 1.0\n",
      "f1 score is: 1.0\n"
     ]
    }
   ],
   "source": [
    "from sklearn.ensemble import RandomForestClassifier\n",
    "random_forest=RandomForestClassifier(random_state=42)\n",
    "random_forest.fit(X_train,y_train)\n",
    "y_pred=random_forest.predict(X_test)\n",
    "print(\"Accuracy is:\",round(accuracy_score(y_test,y_pred),3))\n",
    "print(\"f1 score is:\",round(f1_score(y_test,y_pred,average='micro'),2))"
   ]
  },
  {
   "cell_type": "markdown",
   "id": "529f9b1d",
   "metadata": {},
   "source": [
    "#### 4) Evaluation of Model"
   ]
  },
  {
   "cell_type": "markdown",
   "id": "e72b97ae",
   "metadata": {},
   "source": [
    "| Model | Accuracy | F1_score\n",
    "| --- | --- | --- |\n",
    "| Logistic regression | 0.967 | 0.967 \n",
    "| SVM | 0.967 | 0.967 \n",
    "| KNN | 0.967 | 0.967  \n",
    "| Random Forest |1.0 | 1.0 \n",
    "| Decision tree | 1.0 | 1.0"
   ]
  },
  {
   "cell_type": "markdown",
   "id": "2fbdb445",
   "metadata": {},
   "source": [
    "Random forest and Decision tree algorithms gives the best result here.Random forest leverages the power of multiple decision trees and it does not rely on the feature importance given by a single decision tree.\n",
    "When we have a large dataset, and interpretability is not a major concern,random forest can be chosen else Decision tree."
   ]
  }
 ],
 "metadata": {
  "kernelspec": {
   "display_name": "Python 3 (ipykernel)",
   "language": "python",
   "name": "python3"
  },
  "language_info": {
   "codemirror_mode": {
    "name": "ipython",
    "version": 3
   },
   "file_extension": ".py",
   "mimetype": "text/x-python",
   "name": "python",
   "nbconvert_exporter": "python",
   "pygments_lexer": "ipython3",
   "version": "3.9.7"
  }
 },
 "nbformat": 4,
 "nbformat_minor": 5
}
