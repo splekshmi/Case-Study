{
 "cells": [
  {
   "cell_type": "markdown",
   "id": "13e0fd59",
   "metadata": {},
   "source": [
    "## <center>Case Study on Probability for Data Science"
   ]
  },
  {
   "cell_type": "markdown",
   "id": "2453a799",
   "metadata": {},
   "source": [
    "### 1) Reading the dataset to python environment"
   ]
  },
  {
   "cell_type": "code",
   "execution_count": 1,
   "id": "cb23a7a2",
   "metadata": {},
   "outputs": [],
   "source": [
    "import pandas as pd\n",
    "mushroom=pd.read_csv('mushrooms.csv')"
   ]
  },
  {
   "cell_type": "code",
   "execution_count": 2,
   "id": "465cabb7",
   "metadata": {},
   "outputs": [
    {
     "data": {
      "text/html": [
       "<div>\n",
       "<style scoped>\n",
       "    .dataframe tbody tr th:only-of-type {\n",
       "        vertical-align: middle;\n",
       "    }\n",
       "\n",
       "    .dataframe tbody tr th {\n",
       "        vertical-align: top;\n",
       "    }\n",
       "\n",
       "    .dataframe thead th {\n",
       "        text-align: right;\n",
       "    }\n",
       "</style>\n",
       "<table border=\"1\" class=\"dataframe\">\n",
       "  <thead>\n",
       "    <tr style=\"text-align: right;\">\n",
       "      <th></th>\n",
       "      <th>class</th>\n",
       "      <th>cap-shape</th>\n",
       "      <th>cap-surface</th>\n",
       "      <th>cap-color</th>\n",
       "      <th>bruises</th>\n",
       "      <th>odor</th>\n",
       "      <th>gill-attachment</th>\n",
       "      <th>gill-spacing</th>\n",
       "      <th>gill-size</th>\n",
       "      <th>gill-color</th>\n",
       "      <th>...</th>\n",
       "      <th>stalk-surface-below-ring</th>\n",
       "      <th>stalk-color-above-ring</th>\n",
       "      <th>stalk-color-below-ring</th>\n",
       "      <th>veil-type</th>\n",
       "      <th>veil-color</th>\n",
       "      <th>ring-number</th>\n",
       "      <th>ring-type</th>\n",
       "      <th>spore-print-color</th>\n",
       "      <th>population</th>\n",
       "      <th>habitat</th>\n",
       "    </tr>\n",
       "  </thead>\n",
       "  <tbody>\n",
       "    <tr>\n",
       "      <th>0</th>\n",
       "      <td>p</td>\n",
       "      <td>x</td>\n",
       "      <td>s</td>\n",
       "      <td>n</td>\n",
       "      <td>t</td>\n",
       "      <td>p</td>\n",
       "      <td>f</td>\n",
       "      <td>c</td>\n",
       "      <td>n</td>\n",
       "      <td>k</td>\n",
       "      <td>...</td>\n",
       "      <td>s</td>\n",
       "      <td>w</td>\n",
       "      <td>w</td>\n",
       "      <td>p</td>\n",
       "      <td>w</td>\n",
       "      <td>o</td>\n",
       "      <td>p</td>\n",
       "      <td>k</td>\n",
       "      <td>s</td>\n",
       "      <td>u</td>\n",
       "    </tr>\n",
       "    <tr>\n",
       "      <th>1</th>\n",
       "      <td>e</td>\n",
       "      <td>x</td>\n",
       "      <td>s</td>\n",
       "      <td>y</td>\n",
       "      <td>t</td>\n",
       "      <td>a</td>\n",
       "      <td>f</td>\n",
       "      <td>c</td>\n",
       "      <td>b</td>\n",
       "      <td>k</td>\n",
       "      <td>...</td>\n",
       "      <td>s</td>\n",
       "      <td>w</td>\n",
       "      <td>w</td>\n",
       "      <td>p</td>\n",
       "      <td>w</td>\n",
       "      <td>o</td>\n",
       "      <td>p</td>\n",
       "      <td>n</td>\n",
       "      <td>n</td>\n",
       "      <td>g</td>\n",
       "    </tr>\n",
       "    <tr>\n",
       "      <th>2</th>\n",
       "      <td>e</td>\n",
       "      <td>b</td>\n",
       "      <td>s</td>\n",
       "      <td>w</td>\n",
       "      <td>t</td>\n",
       "      <td>l</td>\n",
       "      <td>f</td>\n",
       "      <td>c</td>\n",
       "      <td>b</td>\n",
       "      <td>n</td>\n",
       "      <td>...</td>\n",
       "      <td>s</td>\n",
       "      <td>w</td>\n",
       "      <td>w</td>\n",
       "      <td>p</td>\n",
       "      <td>w</td>\n",
       "      <td>o</td>\n",
       "      <td>p</td>\n",
       "      <td>n</td>\n",
       "      <td>n</td>\n",
       "      <td>m</td>\n",
       "    </tr>\n",
       "    <tr>\n",
       "      <th>3</th>\n",
       "      <td>p</td>\n",
       "      <td>x</td>\n",
       "      <td>y</td>\n",
       "      <td>w</td>\n",
       "      <td>t</td>\n",
       "      <td>p</td>\n",
       "      <td>f</td>\n",
       "      <td>c</td>\n",
       "      <td>n</td>\n",
       "      <td>n</td>\n",
       "      <td>...</td>\n",
       "      <td>s</td>\n",
       "      <td>w</td>\n",
       "      <td>w</td>\n",
       "      <td>p</td>\n",
       "      <td>w</td>\n",
       "      <td>o</td>\n",
       "      <td>p</td>\n",
       "      <td>k</td>\n",
       "      <td>s</td>\n",
       "      <td>u</td>\n",
       "    </tr>\n",
       "    <tr>\n",
       "      <th>4</th>\n",
       "      <td>e</td>\n",
       "      <td>x</td>\n",
       "      <td>s</td>\n",
       "      <td>g</td>\n",
       "      <td>f</td>\n",
       "      <td>n</td>\n",
       "      <td>f</td>\n",
       "      <td>w</td>\n",
       "      <td>b</td>\n",
       "      <td>k</td>\n",
       "      <td>...</td>\n",
       "      <td>s</td>\n",
       "      <td>w</td>\n",
       "      <td>w</td>\n",
       "      <td>p</td>\n",
       "      <td>w</td>\n",
       "      <td>o</td>\n",
       "      <td>e</td>\n",
       "      <td>n</td>\n",
       "      <td>a</td>\n",
       "      <td>g</td>\n",
       "    </tr>\n",
       "    <tr>\n",
       "      <th>...</th>\n",
       "      <td>...</td>\n",
       "      <td>...</td>\n",
       "      <td>...</td>\n",
       "      <td>...</td>\n",
       "      <td>...</td>\n",
       "      <td>...</td>\n",
       "      <td>...</td>\n",
       "      <td>...</td>\n",
       "      <td>...</td>\n",
       "      <td>...</td>\n",
       "      <td>...</td>\n",
       "      <td>...</td>\n",
       "      <td>...</td>\n",
       "      <td>...</td>\n",
       "      <td>...</td>\n",
       "      <td>...</td>\n",
       "      <td>...</td>\n",
       "      <td>...</td>\n",
       "      <td>...</td>\n",
       "      <td>...</td>\n",
       "      <td>...</td>\n",
       "    </tr>\n",
       "    <tr>\n",
       "      <th>8119</th>\n",
       "      <td>e</td>\n",
       "      <td>k</td>\n",
       "      <td>s</td>\n",
       "      <td>n</td>\n",
       "      <td>f</td>\n",
       "      <td>n</td>\n",
       "      <td>a</td>\n",
       "      <td>c</td>\n",
       "      <td>b</td>\n",
       "      <td>y</td>\n",
       "      <td>...</td>\n",
       "      <td>s</td>\n",
       "      <td>o</td>\n",
       "      <td>o</td>\n",
       "      <td>p</td>\n",
       "      <td>o</td>\n",
       "      <td>o</td>\n",
       "      <td>p</td>\n",
       "      <td>b</td>\n",
       "      <td>c</td>\n",
       "      <td>l</td>\n",
       "    </tr>\n",
       "    <tr>\n",
       "      <th>8120</th>\n",
       "      <td>e</td>\n",
       "      <td>x</td>\n",
       "      <td>s</td>\n",
       "      <td>n</td>\n",
       "      <td>f</td>\n",
       "      <td>n</td>\n",
       "      <td>a</td>\n",
       "      <td>c</td>\n",
       "      <td>b</td>\n",
       "      <td>y</td>\n",
       "      <td>...</td>\n",
       "      <td>s</td>\n",
       "      <td>o</td>\n",
       "      <td>o</td>\n",
       "      <td>p</td>\n",
       "      <td>n</td>\n",
       "      <td>o</td>\n",
       "      <td>p</td>\n",
       "      <td>b</td>\n",
       "      <td>v</td>\n",
       "      <td>l</td>\n",
       "    </tr>\n",
       "    <tr>\n",
       "      <th>8121</th>\n",
       "      <td>e</td>\n",
       "      <td>f</td>\n",
       "      <td>s</td>\n",
       "      <td>n</td>\n",
       "      <td>f</td>\n",
       "      <td>n</td>\n",
       "      <td>a</td>\n",
       "      <td>c</td>\n",
       "      <td>b</td>\n",
       "      <td>n</td>\n",
       "      <td>...</td>\n",
       "      <td>s</td>\n",
       "      <td>o</td>\n",
       "      <td>o</td>\n",
       "      <td>p</td>\n",
       "      <td>o</td>\n",
       "      <td>o</td>\n",
       "      <td>p</td>\n",
       "      <td>b</td>\n",
       "      <td>c</td>\n",
       "      <td>l</td>\n",
       "    </tr>\n",
       "    <tr>\n",
       "      <th>8122</th>\n",
       "      <td>p</td>\n",
       "      <td>k</td>\n",
       "      <td>y</td>\n",
       "      <td>n</td>\n",
       "      <td>f</td>\n",
       "      <td>y</td>\n",
       "      <td>f</td>\n",
       "      <td>c</td>\n",
       "      <td>n</td>\n",
       "      <td>b</td>\n",
       "      <td>...</td>\n",
       "      <td>k</td>\n",
       "      <td>w</td>\n",
       "      <td>w</td>\n",
       "      <td>p</td>\n",
       "      <td>w</td>\n",
       "      <td>o</td>\n",
       "      <td>e</td>\n",
       "      <td>w</td>\n",
       "      <td>v</td>\n",
       "      <td>l</td>\n",
       "    </tr>\n",
       "    <tr>\n",
       "      <th>8123</th>\n",
       "      <td>e</td>\n",
       "      <td>x</td>\n",
       "      <td>s</td>\n",
       "      <td>n</td>\n",
       "      <td>f</td>\n",
       "      <td>n</td>\n",
       "      <td>a</td>\n",
       "      <td>c</td>\n",
       "      <td>b</td>\n",
       "      <td>y</td>\n",
       "      <td>...</td>\n",
       "      <td>s</td>\n",
       "      <td>o</td>\n",
       "      <td>o</td>\n",
       "      <td>p</td>\n",
       "      <td>o</td>\n",
       "      <td>o</td>\n",
       "      <td>p</td>\n",
       "      <td>o</td>\n",
       "      <td>c</td>\n",
       "      <td>l</td>\n",
       "    </tr>\n",
       "  </tbody>\n",
       "</table>\n",
       "<p>8124 rows × 23 columns</p>\n",
       "</div>"
      ],
      "text/plain": [
       "     class cap-shape cap-surface cap-color bruises odor gill-attachment  \\\n",
       "0        p         x           s         n       t    p               f   \n",
       "1        e         x           s         y       t    a               f   \n",
       "2        e         b           s         w       t    l               f   \n",
       "3        p         x           y         w       t    p               f   \n",
       "4        e         x           s         g       f    n               f   \n",
       "...    ...       ...         ...       ...     ...  ...             ...   \n",
       "8119     e         k           s         n       f    n               a   \n",
       "8120     e         x           s         n       f    n               a   \n",
       "8121     e         f           s         n       f    n               a   \n",
       "8122     p         k           y         n       f    y               f   \n",
       "8123     e         x           s         n       f    n               a   \n",
       "\n",
       "     gill-spacing gill-size gill-color  ... stalk-surface-below-ring  \\\n",
       "0               c         n          k  ...                        s   \n",
       "1               c         b          k  ...                        s   \n",
       "2               c         b          n  ...                        s   \n",
       "3               c         n          n  ...                        s   \n",
       "4               w         b          k  ...                        s   \n",
       "...           ...       ...        ...  ...                      ...   \n",
       "8119            c         b          y  ...                        s   \n",
       "8120            c         b          y  ...                        s   \n",
       "8121            c         b          n  ...                        s   \n",
       "8122            c         n          b  ...                        k   \n",
       "8123            c         b          y  ...                        s   \n",
       "\n",
       "     stalk-color-above-ring stalk-color-below-ring veil-type veil-color  \\\n",
       "0                         w                      w         p          w   \n",
       "1                         w                      w         p          w   \n",
       "2                         w                      w         p          w   \n",
       "3                         w                      w         p          w   \n",
       "4                         w                      w         p          w   \n",
       "...                     ...                    ...       ...        ...   \n",
       "8119                      o                      o         p          o   \n",
       "8120                      o                      o         p          n   \n",
       "8121                      o                      o         p          o   \n",
       "8122                      w                      w         p          w   \n",
       "8123                      o                      o         p          o   \n",
       "\n",
       "     ring-number ring-type spore-print-color population habitat  \n",
       "0              o         p                 k          s       u  \n",
       "1              o         p                 n          n       g  \n",
       "2              o         p                 n          n       m  \n",
       "3              o         p                 k          s       u  \n",
       "4              o         e                 n          a       g  \n",
       "...          ...       ...               ...        ...     ...  \n",
       "8119           o         p                 b          c       l  \n",
       "8120           o         p                 b          v       l  \n",
       "8121           o         p                 b          c       l  \n",
       "8122           o         e                 w          v       l  \n",
       "8123           o         p                 o          c       l  \n",
       "\n",
       "[8124 rows x 23 columns]"
      ]
     },
     "execution_count": 2,
     "metadata": {},
     "output_type": "execute_result"
    }
   ],
   "source": [
    "#Checking the overall structure of the data set\n",
    "mushroom"
   ]
  },
  {
   "cell_type": "markdown",
   "id": "fcfcb848",
   "metadata": {},
   "source": [
    "The dataset consist of 8124 rows and 23 columns"
   ]
  },
  {
   "cell_type": "markdown",
   "id": "e8468043",
   "metadata": {},
   "source": [
    "### 2) Pre-processing"
   ]
  },
  {
   "cell_type": "code",
   "execution_count": 3,
   "id": "7f1affb6",
   "metadata": {},
   "outputs": [],
   "source": [
    "#Checking for null values"
   ]
  },
  {
   "cell_type": "code",
   "execution_count": 4,
   "id": "6fac35ee",
   "metadata": {},
   "outputs": [
    {
     "data": {
      "text/plain": [
       "class                       0\n",
       "cap-shape                   0\n",
       "cap-surface                 0\n",
       "cap-color                   0\n",
       "bruises                     0\n",
       "odor                        0\n",
       "gill-attachment             0\n",
       "gill-spacing                0\n",
       "gill-size                   0\n",
       "gill-color                  0\n",
       "stalk-shape                 0\n",
       "stalk-root                  0\n",
       "stalk-surface-above-ring    0\n",
       "stalk-surface-below-ring    0\n",
       "stalk-color-above-ring      0\n",
       "stalk-color-below-ring      0\n",
       "veil-type                   0\n",
       "veil-color                  0\n",
       "ring-number                 0\n",
       "ring-type                   0\n",
       "spore-print-color           0\n",
       "population                  0\n",
       "habitat                     0\n",
       "dtype: int64"
      ]
     },
     "execution_count": 4,
     "metadata": {},
     "output_type": "execute_result"
    }
   ],
   "source": [
    "mushroom.isna().sum()"
   ]
  },
  {
   "cell_type": "markdown",
   "id": "7bf839ed",
   "metadata": {},
   "source": [
    "Dataset doesnt contain any null values"
   ]
  },
  {
   "cell_type": "code",
   "execution_count": 5,
   "id": "b5d449bc",
   "metadata": {},
   "outputs": [],
   "source": [
    "# Using label encoding to convert the column data to numerical type"
   ]
  },
  {
   "cell_type": "code",
   "execution_count": 6,
   "id": "fe46e114",
   "metadata": {},
   "outputs": [],
   "source": [
    "M=mushroom.copy() # To be used for Model building with one hot encoded data"
   ]
  },
  {
   "cell_type": "code",
   "execution_count": 7,
   "id": "69f52d12",
   "metadata": {},
   "outputs": [],
   "source": [
    "from sklearn.preprocessing import LabelEncoder\n",
    "label=LabelEncoder()\n",
    "for col in mushroom.columns:\n",
    "    mushroom[col] = label.fit_transform(mushroom[col])"
   ]
  },
  {
   "cell_type": "code",
   "execution_count": 8,
   "id": "d6deced4",
   "metadata": {},
   "outputs": [
    {
     "data": {
      "text/html": [
       "<div>\n",
       "<style scoped>\n",
       "    .dataframe tbody tr th:only-of-type {\n",
       "        vertical-align: middle;\n",
       "    }\n",
       "\n",
       "    .dataframe tbody tr th {\n",
       "        vertical-align: top;\n",
       "    }\n",
       "\n",
       "    .dataframe thead th {\n",
       "        text-align: right;\n",
       "    }\n",
       "</style>\n",
       "<table border=\"1\" class=\"dataframe\">\n",
       "  <thead>\n",
       "    <tr style=\"text-align: right;\">\n",
       "      <th></th>\n",
       "      <th>class</th>\n",
       "      <th>cap-shape</th>\n",
       "      <th>cap-surface</th>\n",
       "      <th>cap-color</th>\n",
       "      <th>bruises</th>\n",
       "      <th>odor</th>\n",
       "      <th>gill-attachment</th>\n",
       "      <th>gill-spacing</th>\n",
       "      <th>gill-size</th>\n",
       "      <th>gill-color</th>\n",
       "      <th>...</th>\n",
       "      <th>stalk-surface-below-ring</th>\n",
       "      <th>stalk-color-above-ring</th>\n",
       "      <th>stalk-color-below-ring</th>\n",
       "      <th>veil-type</th>\n",
       "      <th>veil-color</th>\n",
       "      <th>ring-number</th>\n",
       "      <th>ring-type</th>\n",
       "      <th>spore-print-color</th>\n",
       "      <th>population</th>\n",
       "      <th>habitat</th>\n",
       "    </tr>\n",
       "  </thead>\n",
       "  <tbody>\n",
       "    <tr>\n",
       "      <th>0</th>\n",
       "      <td>1</td>\n",
       "      <td>5</td>\n",
       "      <td>2</td>\n",
       "      <td>4</td>\n",
       "      <td>1</td>\n",
       "      <td>6</td>\n",
       "      <td>1</td>\n",
       "      <td>0</td>\n",
       "      <td>1</td>\n",
       "      <td>4</td>\n",
       "      <td>...</td>\n",
       "      <td>2</td>\n",
       "      <td>7</td>\n",
       "      <td>7</td>\n",
       "      <td>0</td>\n",
       "      <td>2</td>\n",
       "      <td>1</td>\n",
       "      <td>4</td>\n",
       "      <td>2</td>\n",
       "      <td>3</td>\n",
       "      <td>5</td>\n",
       "    </tr>\n",
       "    <tr>\n",
       "      <th>1</th>\n",
       "      <td>0</td>\n",
       "      <td>5</td>\n",
       "      <td>2</td>\n",
       "      <td>9</td>\n",
       "      <td>1</td>\n",
       "      <td>0</td>\n",
       "      <td>1</td>\n",
       "      <td>0</td>\n",
       "      <td>0</td>\n",
       "      <td>4</td>\n",
       "      <td>...</td>\n",
       "      <td>2</td>\n",
       "      <td>7</td>\n",
       "      <td>7</td>\n",
       "      <td>0</td>\n",
       "      <td>2</td>\n",
       "      <td>1</td>\n",
       "      <td>4</td>\n",
       "      <td>3</td>\n",
       "      <td>2</td>\n",
       "      <td>1</td>\n",
       "    </tr>\n",
       "    <tr>\n",
       "      <th>2</th>\n",
       "      <td>0</td>\n",
       "      <td>0</td>\n",
       "      <td>2</td>\n",
       "      <td>8</td>\n",
       "      <td>1</td>\n",
       "      <td>3</td>\n",
       "      <td>1</td>\n",
       "      <td>0</td>\n",
       "      <td>0</td>\n",
       "      <td>5</td>\n",
       "      <td>...</td>\n",
       "      <td>2</td>\n",
       "      <td>7</td>\n",
       "      <td>7</td>\n",
       "      <td>0</td>\n",
       "      <td>2</td>\n",
       "      <td>1</td>\n",
       "      <td>4</td>\n",
       "      <td>3</td>\n",
       "      <td>2</td>\n",
       "      <td>3</td>\n",
       "    </tr>\n",
       "    <tr>\n",
       "      <th>3</th>\n",
       "      <td>1</td>\n",
       "      <td>5</td>\n",
       "      <td>3</td>\n",
       "      <td>8</td>\n",
       "      <td>1</td>\n",
       "      <td>6</td>\n",
       "      <td>1</td>\n",
       "      <td>0</td>\n",
       "      <td>1</td>\n",
       "      <td>5</td>\n",
       "      <td>...</td>\n",
       "      <td>2</td>\n",
       "      <td>7</td>\n",
       "      <td>7</td>\n",
       "      <td>0</td>\n",
       "      <td>2</td>\n",
       "      <td>1</td>\n",
       "      <td>4</td>\n",
       "      <td>2</td>\n",
       "      <td>3</td>\n",
       "      <td>5</td>\n",
       "    </tr>\n",
       "    <tr>\n",
       "      <th>4</th>\n",
       "      <td>0</td>\n",
       "      <td>5</td>\n",
       "      <td>2</td>\n",
       "      <td>3</td>\n",
       "      <td>0</td>\n",
       "      <td>5</td>\n",
       "      <td>1</td>\n",
       "      <td>1</td>\n",
       "      <td>0</td>\n",
       "      <td>4</td>\n",
       "      <td>...</td>\n",
       "      <td>2</td>\n",
       "      <td>7</td>\n",
       "      <td>7</td>\n",
       "      <td>0</td>\n",
       "      <td>2</td>\n",
       "      <td>1</td>\n",
       "      <td>0</td>\n",
       "      <td>3</td>\n",
       "      <td>0</td>\n",
       "      <td>1</td>\n",
       "    </tr>\n",
       "    <tr>\n",
       "      <th>...</th>\n",
       "      <td>...</td>\n",
       "      <td>...</td>\n",
       "      <td>...</td>\n",
       "      <td>...</td>\n",
       "      <td>...</td>\n",
       "      <td>...</td>\n",
       "      <td>...</td>\n",
       "      <td>...</td>\n",
       "      <td>...</td>\n",
       "      <td>...</td>\n",
       "      <td>...</td>\n",
       "      <td>...</td>\n",
       "      <td>...</td>\n",
       "      <td>...</td>\n",
       "      <td>...</td>\n",
       "      <td>...</td>\n",
       "      <td>...</td>\n",
       "      <td>...</td>\n",
       "      <td>...</td>\n",
       "      <td>...</td>\n",
       "      <td>...</td>\n",
       "    </tr>\n",
       "    <tr>\n",
       "      <th>8119</th>\n",
       "      <td>0</td>\n",
       "      <td>3</td>\n",
       "      <td>2</td>\n",
       "      <td>4</td>\n",
       "      <td>0</td>\n",
       "      <td>5</td>\n",
       "      <td>0</td>\n",
       "      <td>0</td>\n",
       "      <td>0</td>\n",
       "      <td>11</td>\n",
       "      <td>...</td>\n",
       "      <td>2</td>\n",
       "      <td>5</td>\n",
       "      <td>5</td>\n",
       "      <td>0</td>\n",
       "      <td>1</td>\n",
       "      <td>1</td>\n",
       "      <td>4</td>\n",
       "      <td>0</td>\n",
       "      <td>1</td>\n",
       "      <td>2</td>\n",
       "    </tr>\n",
       "    <tr>\n",
       "      <th>8120</th>\n",
       "      <td>0</td>\n",
       "      <td>5</td>\n",
       "      <td>2</td>\n",
       "      <td>4</td>\n",
       "      <td>0</td>\n",
       "      <td>5</td>\n",
       "      <td>0</td>\n",
       "      <td>0</td>\n",
       "      <td>0</td>\n",
       "      <td>11</td>\n",
       "      <td>...</td>\n",
       "      <td>2</td>\n",
       "      <td>5</td>\n",
       "      <td>5</td>\n",
       "      <td>0</td>\n",
       "      <td>0</td>\n",
       "      <td>1</td>\n",
       "      <td>4</td>\n",
       "      <td>0</td>\n",
       "      <td>4</td>\n",
       "      <td>2</td>\n",
       "    </tr>\n",
       "    <tr>\n",
       "      <th>8121</th>\n",
       "      <td>0</td>\n",
       "      <td>2</td>\n",
       "      <td>2</td>\n",
       "      <td>4</td>\n",
       "      <td>0</td>\n",
       "      <td>5</td>\n",
       "      <td>0</td>\n",
       "      <td>0</td>\n",
       "      <td>0</td>\n",
       "      <td>5</td>\n",
       "      <td>...</td>\n",
       "      <td>2</td>\n",
       "      <td>5</td>\n",
       "      <td>5</td>\n",
       "      <td>0</td>\n",
       "      <td>1</td>\n",
       "      <td>1</td>\n",
       "      <td>4</td>\n",
       "      <td>0</td>\n",
       "      <td>1</td>\n",
       "      <td>2</td>\n",
       "    </tr>\n",
       "    <tr>\n",
       "      <th>8122</th>\n",
       "      <td>1</td>\n",
       "      <td>3</td>\n",
       "      <td>3</td>\n",
       "      <td>4</td>\n",
       "      <td>0</td>\n",
       "      <td>8</td>\n",
       "      <td>1</td>\n",
       "      <td>0</td>\n",
       "      <td>1</td>\n",
       "      <td>0</td>\n",
       "      <td>...</td>\n",
       "      <td>1</td>\n",
       "      <td>7</td>\n",
       "      <td>7</td>\n",
       "      <td>0</td>\n",
       "      <td>2</td>\n",
       "      <td>1</td>\n",
       "      <td>0</td>\n",
       "      <td>7</td>\n",
       "      <td>4</td>\n",
       "      <td>2</td>\n",
       "    </tr>\n",
       "    <tr>\n",
       "      <th>8123</th>\n",
       "      <td>0</td>\n",
       "      <td>5</td>\n",
       "      <td>2</td>\n",
       "      <td>4</td>\n",
       "      <td>0</td>\n",
       "      <td>5</td>\n",
       "      <td>0</td>\n",
       "      <td>0</td>\n",
       "      <td>0</td>\n",
       "      <td>11</td>\n",
       "      <td>...</td>\n",
       "      <td>2</td>\n",
       "      <td>5</td>\n",
       "      <td>5</td>\n",
       "      <td>0</td>\n",
       "      <td>1</td>\n",
       "      <td>1</td>\n",
       "      <td>4</td>\n",
       "      <td>4</td>\n",
       "      <td>1</td>\n",
       "      <td>2</td>\n",
       "    </tr>\n",
       "  </tbody>\n",
       "</table>\n",
       "<p>8124 rows × 23 columns</p>\n",
       "</div>"
      ],
      "text/plain": [
       "      class  cap-shape  cap-surface  cap-color  bruises  odor  \\\n",
       "0         1          5            2          4        1     6   \n",
       "1         0          5            2          9        1     0   \n",
       "2         0          0            2          8        1     3   \n",
       "3         1          5            3          8        1     6   \n",
       "4         0          5            2          3        0     5   \n",
       "...     ...        ...          ...        ...      ...   ...   \n",
       "8119      0          3            2          4        0     5   \n",
       "8120      0          5            2          4        0     5   \n",
       "8121      0          2            2          4        0     5   \n",
       "8122      1          3            3          4        0     8   \n",
       "8123      0          5            2          4        0     5   \n",
       "\n",
       "      gill-attachment  gill-spacing  gill-size  gill-color  ...  \\\n",
       "0                   1             0          1           4  ...   \n",
       "1                   1             0          0           4  ...   \n",
       "2                   1             0          0           5  ...   \n",
       "3                   1             0          1           5  ...   \n",
       "4                   1             1          0           4  ...   \n",
       "...               ...           ...        ...         ...  ...   \n",
       "8119                0             0          0          11  ...   \n",
       "8120                0             0          0          11  ...   \n",
       "8121                0             0          0           5  ...   \n",
       "8122                1             0          1           0  ...   \n",
       "8123                0             0          0          11  ...   \n",
       "\n",
       "      stalk-surface-below-ring  stalk-color-above-ring  \\\n",
       "0                            2                       7   \n",
       "1                            2                       7   \n",
       "2                            2                       7   \n",
       "3                            2                       7   \n",
       "4                            2                       7   \n",
       "...                        ...                     ...   \n",
       "8119                         2                       5   \n",
       "8120                         2                       5   \n",
       "8121                         2                       5   \n",
       "8122                         1                       7   \n",
       "8123                         2                       5   \n",
       "\n",
       "      stalk-color-below-ring  veil-type  veil-color  ring-number  ring-type  \\\n",
       "0                          7          0           2            1          4   \n",
       "1                          7          0           2            1          4   \n",
       "2                          7          0           2            1          4   \n",
       "3                          7          0           2            1          4   \n",
       "4                          7          0           2            1          0   \n",
       "...                      ...        ...         ...          ...        ...   \n",
       "8119                       5          0           1            1          4   \n",
       "8120                       5          0           0            1          4   \n",
       "8121                       5          0           1            1          4   \n",
       "8122                       7          0           2            1          0   \n",
       "8123                       5          0           1            1          4   \n",
       "\n",
       "      spore-print-color  population  habitat  \n",
       "0                     2           3        5  \n",
       "1                     3           2        1  \n",
       "2                     3           2        3  \n",
       "3                     2           3        5  \n",
       "4                     3           0        1  \n",
       "...                 ...         ...      ...  \n",
       "8119                  0           1        2  \n",
       "8120                  0           4        2  \n",
       "8121                  0           1        2  \n",
       "8122                  7           4        2  \n",
       "8123                  4           1        2  \n",
       "\n",
       "[8124 rows x 23 columns]"
      ]
     },
     "execution_count": 8,
     "metadata": {},
     "output_type": "execute_result"
    }
   ],
   "source": [
    "mushroom"
   ]
  },
  {
   "cell_type": "code",
   "execution_count": 9,
   "id": "be1eebfc",
   "metadata": {},
   "outputs": [],
   "source": [
    "#Checking for unique values in each of the columns."
   ]
  },
  {
   "cell_type": "code",
   "execution_count": 10,
   "id": "92636b2a",
   "metadata": {},
   "outputs": [
    {
     "name": "stdout",
     "output_type": "stream",
     "text": [
      "class [1 0]\n",
      "cap-shape [5 0 4 2 3 1]\n",
      "cap-surface [2 3 0 1]\n",
      "cap-color [4 9 8 3 2 5 0 7 1 6]\n",
      "bruises [1 0]\n",
      "odor [6 0 3 5 2 1 8 7 4]\n",
      "gill-attachment [1 0]\n",
      "gill-spacing [0 1]\n",
      "gill-size [1 0]\n",
      "gill-color [ 4  5  2  7 10  3  9  1  0  8 11  6]\n",
      "stalk-shape [0 1]\n",
      "stalk-root [3 2 1 4 0]\n",
      "stalk-surface-above-ring [2 0 1 3]\n",
      "stalk-surface-below-ring [2 0 3 1]\n",
      "stalk-color-above-ring [7 3 6 4 0 2 5 1 8]\n",
      "stalk-color-below-ring [7 6 3 0 4 2 8 5 1]\n",
      "veil-type [0]\n",
      "veil-color [2 0 1 3]\n",
      "ring-number [1 2 0]\n",
      "ring-type [4 0 2 1 3]\n",
      "spore-print-color [2 3 6 1 7 5 4 8 0]\n",
      "population [3 2 0 4 5 1]\n",
      "habitat [5 1 3 0 4 6 2]\n"
     ]
    }
   ],
   "source": [
    "for col in mushroom.columns:\n",
    "    print(col,mushroom[col].unique())"
   ]
  },
  {
   "cell_type": "markdown",
   "id": "29027f6a",
   "metadata": {},
   "source": [
    "veil-type has got only one value,so the column can be dropped,since its not relevant in training the model."
   ]
  },
  {
   "cell_type": "code",
   "execution_count": 11,
   "id": "ab3c6364",
   "metadata": {},
   "outputs": [],
   "source": [
    "mushroom.drop('veil-type',inplace=True,axis=1)"
   ]
  },
  {
   "cell_type": "markdown",
   "id": "c4934a48",
   "metadata": {},
   "source": [
    "### 3) Building the models"
   ]
  },
  {
   "cell_type": "code",
   "execution_count": 12,
   "id": "faade47f",
   "metadata": {},
   "outputs": [
    {
     "data": {
      "text/plain": [
       "0    0.517971\n",
       "1    0.482029\n",
       "Name: class, dtype: float64"
      ]
     },
     "execution_count": 12,
     "metadata": {},
     "output_type": "execute_result"
    }
   ],
   "source": [
    "#class is the target and to know the count of each class using value_counts()\n",
    "mushroom['class'].value_counts(normalize=True)  # using normalize to get the proportion"
   ]
  },
  {
   "cell_type": "markdown",
   "id": "f1741faf",
   "metadata": {},
   "source": [
    "Class distribution is almost equal"
   ]
  },
  {
   "cell_type": "code",
   "execution_count": 13,
   "id": "b931cfdc",
   "metadata": {},
   "outputs": [],
   "source": [
    "# spliiting the dataset into features and target\n",
    "#taking 'Class' as target(y) and all other as X\n",
    "X=mushroom.drop(['class'],axis=1)\n",
    "y=mushroom['class']"
   ]
  },
  {
   "cell_type": "code",
   "execution_count": 14,
   "id": "2b4c4b06",
   "metadata": {},
   "outputs": [],
   "source": [
    "# splitting into test and training set\n",
    "from sklearn.model_selection import train_test_split\n",
    "X_train,X_test,y_train,y_test=train_test_split(X,y,random_state=42,test_size=0.20)"
   ]
  },
  {
   "cell_type": "code",
   "execution_count": 15,
   "id": "1a80c7d6",
   "metadata": {},
   "outputs": [
    {
     "data": {
      "text/plain": [
       "(6499, 21)"
      ]
     },
     "execution_count": 15,
     "metadata": {},
     "output_type": "execute_result"
    }
   ],
   "source": [
    "# checking how many data points are there in the training set\n",
    "X_train.shape"
   ]
  },
  {
   "cell_type": "code",
   "execution_count": 16,
   "id": "d0e34d57",
   "metadata": {},
   "outputs": [
    {
     "data": {
      "text/plain": [
       "(1625, 21)"
      ]
     },
     "execution_count": 16,
     "metadata": {},
     "output_type": "execute_result"
    }
   ],
   "source": [
    "# checking how many data points are there in the training set\n",
    "X_test.shape"
   ]
  },
  {
   "cell_type": "markdown",
   "id": "25de00b6",
   "metadata": {},
   "source": [
    "There are 6499 data points for training and 1625 data points for testing"
   ]
  },
  {
   "cell_type": "markdown",
   "id": "ac32047b",
   "metadata": {},
   "source": [
    "#### 3.1) Logistics regression"
   ]
  },
  {
   "cell_type": "code",
   "execution_count": 17,
   "id": "4c2d78c1",
   "metadata": {},
   "outputs": [
    {
     "name": "stdout",
     "output_type": "stream",
     "text": [
      "Accuracy is: 0.948\n",
      "f1 score is: 0.946\n"
     ]
    }
   ],
   "source": [
    "from sklearn.linear_model import LogisticRegression\n",
    "from sklearn.metrics import accuracy_score,f1_score\n",
    "logit_model=LogisticRegression(random_state=42,max_iter=1000)\n",
    "logit_model.fit(X_train,y_train)\n",
    "y_pred=logit_model.predict(X_test)\n",
    "print(\"Accuracy is:\",round(accuracy_score(y_test,y_pred),3))\n",
    "print(\"f1 score is:\",round(f1_score(y_test,y_pred),3))"
   ]
  },
  {
   "cell_type": "markdown",
   "id": "6c8ed6f5",
   "metadata": {},
   "source": [
    "#### 3.2) SVM Classifier"
   ]
  },
  {
   "cell_type": "code",
   "execution_count": 18,
   "id": "da2ec901",
   "metadata": {},
   "outputs": [
    {
     "name": "stdout",
     "output_type": "stream",
     "text": [
      "Accuracy is: 0.994\n",
      "f1 score is: 0.994\n"
     ]
    }
   ],
   "source": [
    "from sklearn.svm import SVC\n",
    "svm_model=SVC(random_state=42)\n",
    "svm_model.fit(X_train,y_train)\n",
    "y_pred=svm_model.predict(X_test)\n",
    "print(\"Accuracy is:\",round(accuracy_score(y_test,y_pred),3))\n",
    "print(\"f1 score is:\",round(f1_score(y_test,y_pred),3))"
   ]
  },
  {
   "cell_type": "markdown",
   "id": "fbe84306",
   "metadata": {},
   "source": [
    "#### 3.3) KNN Classifier"
   ]
  },
  {
   "cell_type": "code",
   "execution_count": 19,
   "id": "58980a91",
   "metadata": {},
   "outputs": [
    {
     "name": "stdout",
     "output_type": "stream",
     "text": [
      "Accuracy is: 0.996\n",
      "f1 score is: 0.996\n"
     ]
    }
   ],
   "source": [
    "from sklearn.neighbors import KNeighborsClassifier\n",
    "knn_model=KNeighborsClassifier()\n",
    "knn_model.fit(X_train,y_train)\n",
    "y_pred=knn_model.predict(X_test)\n",
    "print(\"Accuracy is:\",round(accuracy_score(y_test,y_pred),3))\n",
    "print(\"f1 score is:\",round(f1_score(y_test,y_pred),3))"
   ]
  },
  {
   "cell_type": "markdown",
   "id": "8a8c4490",
   "metadata": {},
   "source": [
    "#### 3.4)  Decision tree Classifier"
   ]
  },
  {
   "cell_type": "code",
   "execution_count": 20,
   "id": "e0aa0a50",
   "metadata": {},
   "outputs": [
    {
     "name": "stdout",
     "output_type": "stream",
     "text": [
      "Accuracy is: 1.0\n",
      "f1 score is: 1.0\n"
     ]
    }
   ],
   "source": [
    "from sklearn.tree import DecisionTreeClassifier\n",
    "decision_tree=DecisionTreeClassifier(random_state=42)\n",
    "decision_tree.fit(X_train,y_train)\n",
    "y_pred=decision_tree.predict(X_test)\n",
    "print(\"Accuracy is:\",round(accuracy_score(y_test,y_pred),3))\n",
    "print(\"f1 score is:\",round(f1_score(y_test,y_pred),3))"
   ]
  },
  {
   "cell_type": "markdown",
   "id": "8ec9185a",
   "metadata": {},
   "source": [
    "#### 3.5) Random forest Classifier "
   ]
  },
  {
   "cell_type": "code",
   "execution_count": 21,
   "id": "4d8cfc1c",
   "metadata": {},
   "outputs": [
    {
     "name": "stdout",
     "output_type": "stream",
     "text": [
      "Accuracy is: 1.0\n",
      "f1 score is: 1.0\n"
     ]
    }
   ],
   "source": [
    "from sklearn.ensemble import RandomForestClassifier\n",
    "random_forest=RandomForestClassifier(random_state=42)\n",
    "random_forest.fit(X_train,y_train)\n",
    "y_pred=random_forest.predict(X_test)\n",
    "print(\"Accuracy is:\",round(accuracy_score(y_test,y_pred),3))\n",
    "print(\"f1 score is:\",round(f1_score(y_test,y_pred),2))"
   ]
  },
  {
   "cell_type": "markdown",
   "id": "fb0b3b7b",
   "metadata": {},
   "source": [
    "#### 3.6) Categorical NB"
   ]
  },
  {
   "cell_type": "code",
   "execution_count": 22,
   "id": "e828e829",
   "metadata": {},
   "outputs": [
    {
     "name": "stdout",
     "output_type": "stream",
     "text": [
      "Accuracy is: 0.951\n",
      "f1 score is: 0.95\n"
     ]
    }
   ],
   "source": [
    "from  sklearn.naive_bayes import CategoricalNB\n",
    "cat_NB=CategoricalNB()\n",
    "cat_NB.fit(X_train,y_train)\n",
    "y_pred=cat_NB.predict(X_test)\n",
    "print(\"Accuracy is:\",round(accuracy_score(y_test,y_pred),3))\n",
    "print(\"f1 score is:\",round(f1_score(y_test,y_pred),2))"
   ]
  },
  {
   "cell_type": "markdown",
   "id": "010bde16",
   "metadata": {},
   "source": [
    "Categorical NB has been used since the features are categorical.\n",
    "Bernoulli NB can be applied after one hot encoding,but one hot encoded columns will be highly correlated which is against the assumptions of Naive Bayes classifier. \n",
    "Bernoulli NB can be applied in label encoded data where the model itself binarize the data ,by assuming all non zero categories as 1.\n",
    "Gaussian NB is not applied since ,the features are not continuous data."
   ]
  },
  {
   "cell_type": "markdown",
   "id": "eec372b4",
   "metadata": {},
   "source": [
    "#### 3.7)Bernoullli NB(with label encoding)"
   ]
  },
  {
   "cell_type": "code",
   "execution_count": 23,
   "id": "03488969",
   "metadata": {},
   "outputs": [],
   "source": [
    "#Applying Bernoullli NB to check how it performs."
   ]
  },
  {
   "cell_type": "code",
   "execution_count": 24,
   "id": "5ba95003",
   "metadata": {},
   "outputs": [
    {
     "name": "stdout",
     "output_type": "stream",
     "text": [
      "Accuracy is: 0.842\n",
      "f1 score is: 0.82\n"
     ]
    }
   ],
   "source": [
    "from sklearn.naive_bayes import BernoulliNB\n",
    "B_NB=BernoulliNB()\n",
    "B_NB.fit(X_train,y_train)\n",
    "y_pred=B_NB.predict(X_test)\n",
    "print(\"Accuracy is:\",round(accuracy_score(y_test,y_pred),3))\n",
    "print(\"f1 score is:\",round(f1_score(y_test,y_pred),2))"
   ]
  },
  {
   "cell_type": "markdown",
   "id": "1aa8b181",
   "metadata": {},
   "source": [
    "#### 3.8) Bernoullli NB(with onehot encoding)"
   ]
  },
  {
   "cell_type": "code",
   "execution_count": 41,
   "id": "31a5d2b1",
   "metadata": {},
   "outputs": [],
   "source": [
    "# Applying Bernoullli NB after onehot encoding"
   ]
  },
  {
   "cell_type": "code",
   "execution_count": 27,
   "id": "23625374",
   "metadata": {},
   "outputs": [],
   "source": [
    "X_df=M.drop('class',axis=1)\n",
    "y=M['class']"
   ]
  },
  {
   "cell_type": "code",
   "execution_count": 39,
   "id": "ee6391cc",
   "metadata": {},
   "outputs": [
    {
     "name": "stdout",
     "output_type": "stream",
     "text": [
      "Accuracy is: 0.936\n",
      "f1 score is: 0.93\n"
     ]
    }
   ],
   "source": [
    "#One hot encoding using get dummies\n",
    "X=pd.get_dummies(X_df)  #Not encoding the target,since scikit learn automatically encodes the target\n",
    "from sklearn.model_selection import train_test_split\n",
    "X_train,X_test,y_train,y_test=train_test_split(X,y,random_state=42,test_size=0.20)\n",
    "from sklearn.naive_bayes import BernoulliNB\n",
    "B_NB=BernoulliNB()\n",
    "B_NB.fit(X_train,y_train)\n",
    "y_pred=B_NB.predict(X_test)\n",
    "print(\"Accuracy is:\",round(accuracy_score(y_test,y_pred),3))\n",
    "print(\"f1 score is:\",round(f1_score(y_test,y_pred),2))\n"
   ]
  },
  {
   "cell_type": "markdown",
   "id": "4f7520f3",
   "metadata": {},
   "source": [
    "### 4) Evaluation of Models"
   ]
  },
  {
   "cell_type": "markdown",
   "id": "d8420910",
   "metadata": {},
   "source": [
    "#### 4.1) Evaluation of Model(with Label encoded data)"
   ]
  },
  {
   "cell_type": "markdown",
   "id": "ba6f7944",
   "metadata": {},
   "source": [
    "| Model | Accuracy | F1_score\n",
    "| --- | --- | --- |\n",
    "| Logistic regression | 0.948 | 0.946 \n",
    "| SVM | 0.993 | 0.992 \n",
    "| KNN | 0.996 | 0.996  \n",
    "| Decision Tree |1.0 | 1.0 \n",
    "| Random Forest | 1.0 | 1.0\n",
    "| CategoricalNB | 0.951 | 0.951\n",
    "| BernoulliNB(label encoding) | 0.842 | 0.82\n",
    "|BernoulliNB(one hot encoding) | 0.936 | 0.93"
   ]
  },
  {
   "cell_type": "markdown",
   "id": "8eb3c3d8",
   "metadata": {},
   "source": [
    "Decision tree & Random forest classifier gives the best result.\n",
    "In the case of Naive Bayes classifier,CategoricalNB gives the best result.Bernoulli NB performance improved with onehot encoding encoding."
   ]
  },
  {
   "cell_type": "code",
   "execution_count": null,
   "id": "ff423d8c",
   "metadata": {},
   "outputs": [],
   "source": [
    "#Since BernoulliNB improved with onehot encoding ,checking whether performance of other models improves with onehot encoded data"
   ]
  },
  {
   "cell_type": "markdown",
   "id": "94631c48",
   "metadata": {},
   "source": [
    "#### 4.2)Model Building (with onehot encoding) "
   ]
  },
  {
   "cell_type": "code",
   "execution_count": 51,
   "id": "ba97a5e1",
   "metadata": {},
   "outputs": [],
   "source": [
    "# Testing whether Logistic regression,SVM and KNN improves by one hot encoding the features.\n",
    "# For categorical NB one hot encoding is not applied.(since it exactly requires categorical features)"
   ]
  },
  {
   "cell_type": "markdown",
   "id": "7684edd7",
   "metadata": {},
   "source": [
    "##### 4.2.1)Logistic regression"
   ]
  },
  {
   "cell_type": "code",
   "execution_count": 47,
   "id": "6d6f02ad",
   "metadata": {},
   "outputs": [
    {
     "name": "stdout",
     "output_type": "stream",
     "text": [
      "Accuracy is: 1.0\n",
      "f1 score is: 1.0\n"
     ]
    }
   ],
   "source": [
    "#One hot encoding using get dummies\n",
    "X=pd.get_dummies(X_df)  #Not encoding the target,since scikit learn automatically encodes the target\n",
    "from sklearn.model_selection import train_test_split\n",
    "X_train,X_test,y_train,y_test=train_test_split(X,y,random_state=42,test_size=0.20)\n",
    "logit_model=LogisticRegression(random_state=42,max_iter=1000)\n",
    "logit_model.fit(X_train,y_train)\n",
    "y_pred=logit_model.predict(X_test)\n",
    "print(\"Accuracy is:\",round(accuracy_score(y_test,y_pred),3))\n",
    "print(\"f1 score is:\",round(f1_score(y_test,y_pred),2))"
   ]
  },
  {
   "cell_type": "markdown",
   "id": "34beb674",
   "metadata": {},
   "source": [
    "##### 4.2.2) SVM Classifier"
   ]
  },
  {
   "cell_type": "code",
   "execution_count": 48,
   "id": "9aee3e01",
   "metadata": {},
   "outputs": [
    {
     "name": "stdout",
     "output_type": "stream",
     "text": [
      "Accuracy is: 1.0\n",
      "f1 score is: 1.0\n"
     ]
    }
   ],
   "source": [
    "from sklearn.svm import SVC\n",
    "svm_model=SVC(random_state=42)\n",
    "svm_model.fit(X_train,y_train)\n",
    "y_pred=svm_model.predict(X_test)\n",
    "print(\"Accuracy is:\",round(accuracy_score(y_test,y_pred),3))\n",
    "print(\"f1 score is:\",round(f1_score(y_test,y_pred),3))"
   ]
  },
  {
   "cell_type": "markdown",
   "id": "f87de3b5",
   "metadata": {},
   "source": [
    "##### 4.2.3) KNN Classifier"
   ]
  },
  {
   "cell_type": "code",
   "execution_count": 50,
   "id": "ab832a2b",
   "metadata": {},
   "outputs": [
    {
     "name": "stdout",
     "output_type": "stream",
     "text": [
      "Accuracy is: 1.0\n",
      "f1 score is: 1.0\n"
     ]
    }
   ],
   "source": [
    "from sklearn.neighbors import KNeighborsClassifier\n",
    "knn_model=KNeighborsClassifier()\n",
    "knn_model.fit(X_train,y_train)\n",
    "y_pred=knn_model.predict(X_test)\n",
    "print(\"Accuracy is:\",round(accuracy_score(y_test,y_pred),3))\n",
    "print(\"f1 score is:\",round(f1_score(y_test,y_pred),3))"
   ]
  },
  {
   "cell_type": "code",
   "execution_count": 54,
   "id": "37cd0cfa",
   "metadata": {},
   "outputs": [
    {
     "name": "stdout",
     "output_type": "stream",
     "text": [
      "Accuracy is: 0.936\n",
      "f1 score is: 0.93\n"
     ]
    }
   ],
   "source": [
    "#Tried CategoricalNB with one hot enoded data\n",
    "from  sklearn.naive_bayes import CategoricalNB\n",
    "cat_NB=CategoricalNB()\n",
    "cat_NB.fit(X_train,y_train)\n",
    "y_pred=cat_NB.predict(X_test)\n",
    "print(\"Accuracy is:\",round(accuracy_score(y_test,y_pred),3))\n",
    "print(\"f1 score is:\",round(f1_score(y_test,y_pred),2))"
   ]
  },
  {
   "cell_type": "code",
   "execution_count": 55,
   "id": "a5557225",
   "metadata": {},
   "outputs": [],
   "source": [
    "#Result is better with label encoded data"
   ]
  },
  {
   "cell_type": "markdown",
   "id": "9026ccc9",
   "metadata": {},
   "source": [
    "Logistic regression,SVM,KNN models improved after onehot encoding the features"
   ]
  },
  {
   "cell_type": "markdown",
   "id": "9f4f9d60",
   "metadata": {},
   "source": [
    "| Model | Accuracy | F1_score \n",
    "| --- | --- | --- |\n",
    "| Logistic regression(Label encoding) | 0.948 | 0.946 \n",
    "|Logistic regression(onehot encoding) | 1.0 | 1.0\n",
    "| SVM(Label encoding) | 0.993 | 0.992\n",
    "| SVM(one hot encoding) | 1.0 | 1.0\n",
    "| KNN(Label encoding| 0.996 | 0.996 \n",
    "| KNN(One hot encoding) | 1.0 | 1.0\n",
    "| Decision Tree(Label encoding) |1.0 | 1.0 \n",
    "| Random Forest(Label encoding) | 1.0 | 1.0\n",
    "| CategoricalNB(Label encoding) | 0.951 | 0.951\n",
    "| BernoulliNB(label encoding) | 0.842 | 0.82\n",
    "|BernoulliNB(one hot encoding) | 0.936 | 0.93"
   ]
  },
  {
   "cell_type": "markdown",
   "id": "6b639469",
   "metadata": {},
   "source": [
    "Only with One hot encoded data,Logistic regression,SVM and KNN gave 100% accuracy\n",
    "\n",
    "Decision tree and Random forest classifiers gave 100% accuracy even with label encoded data.\n",
    "\n",
    "With respect to Naive Bayes classifier,Categorical NB gave the optimum result "
   ]
  }
 ],
 "metadata": {
  "kernelspec": {
   "display_name": "Python 3 (ipykernel)",
   "language": "python",
   "name": "python3"
  },
  "language_info": {
   "codemirror_mode": {
    "name": "ipython",
    "version": 3
   },
   "file_extension": ".py",
   "mimetype": "text/x-python",
   "name": "python",
   "nbconvert_exporter": "python",
   "pygments_lexer": "ipython3",
   "version": "3.9.7"
  }
 },
 "nbformat": 4,
 "nbformat_minor": 5
}
