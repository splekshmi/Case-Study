{
 "cells": [
  {
   "cell_type": "markdown",
   "id": "1634b3c1",
   "metadata": {},
   "source": [
    "## <center>Case Study on Testing of Hypothesis"
   ]
  },
  {
   "cell_type": "code",
   "execution_count": 1,
   "id": "ca63b785",
   "metadata": {},
   "outputs": [],
   "source": [
    "import pandas as pd\n",
    "Sd= pd.read_csv('Sales_add.csv')"
   ]
  },
  {
   "cell_type": "code",
   "execution_count": 2,
   "id": "692809fb",
   "metadata": {},
   "outputs": [
    {
     "name": "stdout",
     "output_type": "stream",
     "text": [
      "<class 'pandas.core.frame.DataFrame'>\n",
      "RangeIndex: 22 entries, 0 to 21\n",
      "Data columns (total 5 columns):\n",
      " #   Column                          Non-Null Count  Dtype \n",
      "---  ------                          --------------  ----- \n",
      " 0   Month                           22 non-null     object\n",
      " 1   Region                          22 non-null     object\n",
      " 2   Manager                         22 non-null     object\n",
      " 3   Sales_before_digital_add(in $)  22 non-null     int64 \n",
      " 4   Sales_After_digital_add(in $)   22 non-null     int64 \n",
      "dtypes: int64(2), object(3)\n",
      "memory usage: 1008.0+ bytes\n"
     ]
    }
   ],
   "source": [
    "# using Sd.info() to get an overall view about data set\n",
    "Sd.info()"
   ]
  },
  {
   "cell_type": "markdown",
   "id": "d1bb07ed",
   "metadata": {},
   "source": [
    "### 1) Checking whether there is any increase in sales after stepping into digital marketing "
   ]
  },
  {
   "cell_type": "code",
   "execution_count": 3,
   "id": "17a3e152",
   "metadata": {},
   "outputs": [],
   "source": [
    "# Stating the hypothesis"
   ]
  },
  {
   "cell_type": "markdown",
   "id": "608c2b3f",
   "metadata": {},
   "source": [
    "H0= There is no significant increase in sales after stepping into digital marketing,µ1>=µ2"
   ]
  },
  {
   "cell_type": "markdown",
   "id": "5a94f15e",
   "metadata": {},
   "source": [
    "Ha=There is  significant increase in sales after stepping into digital marketing,µ1<µ2"
   ]
  },
  {
   "cell_type": "code",
   "execution_count": 4,
   "id": "094492f1",
   "metadata": {},
   "outputs": [],
   "source": [
    "# setting the significance level"
   ]
  },
  {
   "cell_type": "markdown",
   "id": "29b364fd",
   "metadata": {},
   "source": [
    "Considering significance level(α)=0.05 or 5% "
   ]
  },
  {
   "cell_type": "code",
   "execution_count": 5,
   "id": "a58080fb",
   "metadata": {},
   "outputs": [],
   "source": [
    "# Determining p value using paired sample t-test (one tailed)"
   ]
  },
  {
   "cell_type": "markdown",
   "id": "1df13ff6",
   "metadata": {},
   "source": [
    "Checking whether there is any increase in sales ,so using the one-tailed t-test.\n",
    "Need to compare means from same group at different times-before & after digital marketing- so using paired sample t-test.\n",
    "Setting alternative='greater':Meaning the mean of the distribution underlying the first sample(after digital marketing)is greater than the mean of the distribution underlying the second sample(before digital marketing)\n"
   ]
  },
  {
   "cell_type": "code",
   "execution_count": 6,
   "id": "3290c84f",
   "metadata": {},
   "outputs": [
    {
     "data": {
      "text/plain": [
       "Ttest_relResult(statistic=12.09070525287017, pvalue=3.168333502287889e-11)"
      ]
     },
     "execution_count": 6,
     "metadata": {},
     "output_type": "execute_result"
    }
   ],
   "source": [
    "from scipy.stats import ttest_rel\n",
    "ttest_rel(Sd['Sales_After_digital_add(in $)'],Sd['Sales_before_digital_add(in $)'],alternative='greater')"
   ]
  },
  {
   "cell_type": "code",
   "execution_count": 7,
   "id": "ce884f27",
   "metadata": {},
   "outputs": [],
   "source": [
    "# comparing p value with significance level(0.05) "
   ]
  },
  {
   "cell_type": "markdown",
   "id": "82119491",
   "metadata": {},
   "source": [
    "p value: 3.168333502287889e-11 ≈ 3.16 x 10^-11 < 0.05\n",
    "\n",
    "Rejecting the null hypothesis\n"
   ]
  },
  {
   "cell_type": "code",
   "execution_count": 8,
   "id": "b0e636ff",
   "metadata": {},
   "outputs": [],
   "source": [
    "# conclusion"
   ]
  },
  {
   "cell_type": "markdown",
   "id": "27b9c527",
   "metadata": {},
   "source": [
    "Since p value is less than the selected significance level of 0.05 ,rejecting the null hypothesis which means that there is  significant increase in sales after stepping into digital marketing,µ1<µ2."
   ]
  },
  {
   "cell_type": "markdown",
   "id": "ae20ddfb",
   "metadata": {},
   "source": [
    "### 2) checking whether there is any dependency between the features “Region” and “Manager”"
   ]
  },
  {
   "cell_type": "code",
   "execution_count": 9,
   "id": "9ac1ad4b",
   "metadata": {},
   "outputs": [],
   "source": [
    "# Stating the hypothesis"
   ]
  },
  {
   "cell_type": "markdown",
   "id": "0dd3eb86",
   "metadata": {},
   "source": [
    "H0= There is no dependency between the features \"Region” and “Manager”"
   ]
  },
  {
   "cell_type": "markdown",
   "id": "1f2b67dc",
   "metadata": {},
   "source": [
    "Ha= There is dependency between the features \"Region” and “Manager”"
   ]
  },
  {
   "cell_type": "code",
   "execution_count": 10,
   "id": "2a199de9",
   "metadata": {},
   "outputs": [],
   "source": [
    "# setting the significance level"
   ]
  },
  {
   "cell_type": "markdown",
   "id": "c9b046f2",
   "metadata": {},
   "source": [
    "Considering significance level(α)=0.05 or 5% "
   ]
  },
  {
   "cell_type": "code",
   "execution_count": 11,
   "id": "b1490223",
   "metadata": {},
   "outputs": [],
   "source": [
    "# Determining p value using Chi-square test (test for independence)"
   ]
  },
  {
   "cell_type": "code",
   "execution_count": 12,
   "id": "117aaffc",
   "metadata": {},
   "outputs": [
    {
     "data": {
      "text/html": [
       "<div>\n",
       "<style scoped>\n",
       "    .dataframe tbody tr th:only-of-type {\n",
       "        vertical-align: middle;\n",
       "    }\n",
       "\n",
       "    .dataframe tbody tr th {\n",
       "        vertical-align: top;\n",
       "    }\n",
       "\n",
       "    .dataframe thead th {\n",
       "        text-align: right;\n",
       "    }\n",
       "</style>\n",
       "<table border=\"1\" class=\"dataframe\">\n",
       "  <thead>\n",
       "    <tr style=\"text-align: right;\">\n",
       "      <th>Manager</th>\n",
       "      <th>Manager - A</th>\n",
       "      <th>Manager - B</th>\n",
       "      <th>Manager - C</th>\n",
       "    </tr>\n",
       "    <tr>\n",
       "      <th>Region</th>\n",
       "      <th></th>\n",
       "      <th></th>\n",
       "      <th></th>\n",
       "    </tr>\n",
       "  </thead>\n",
       "  <tbody>\n",
       "    <tr>\n",
       "      <th>Region - A</th>\n",
       "      <td>4</td>\n",
       "      <td>3</td>\n",
       "      <td>3</td>\n",
       "    </tr>\n",
       "    <tr>\n",
       "      <th>Region - B</th>\n",
       "      <td>4</td>\n",
       "      <td>1</td>\n",
       "      <td>2</td>\n",
       "    </tr>\n",
       "    <tr>\n",
       "      <th>Region - C</th>\n",
       "      <td>1</td>\n",
       "      <td>3</td>\n",
       "      <td>1</td>\n",
       "    </tr>\n",
       "  </tbody>\n",
       "</table>\n",
       "</div>"
      ],
      "text/plain": [
       "Manager     Manager - A  Manager - B  Manager - C\n",
       "Region                                           \n",
       "Region - A            4            3            3\n",
       "Region - B            4            1            2\n",
       "Region - C            1            3            1"
      ]
     },
     "execution_count": 12,
     "metadata": {},
     "output_type": "execute_result"
    }
   ],
   "source": [
    "from scipy import stats\n",
    "crosstab = pd.crosstab(Sd[\"Region\"],Sd[\"Manager\"])\n",
    "crosstab"
   ]
  },
  {
   "cell_type": "code",
   "execution_count": 13,
   "id": "3c5fe1ad",
   "metadata": {},
   "outputs": [
    {
     "data": {
      "text/plain": [
       "(3.050566893424036,\n",
       " 0.5493991051158094,\n",
       " 4,\n",
       " array([[4.09090909, 3.18181818, 2.72727273],\n",
       "        [2.86363636, 2.22727273, 1.90909091],\n",
       "        [2.04545455, 1.59090909, 1.36363636]]))"
      ]
     },
     "execution_count": 13,
     "metadata": {},
     "output_type": "execute_result"
    }
   ],
   "source": [
    "stats.chi2_contingency(crosstab)"
   ]
  },
  {
   "cell_type": "markdown",
   "id": "f85b1ca5",
   "metadata": {},
   "source": [
    "The first value ( ≈ 3.05) is the Chi-square value, followed by the p-value (≈ 0.55), then comes the degrees of freedom (4), and lastly it outputs the expected frequencies as an array."
   ]
  },
  {
   "cell_type": "code",
   "execution_count": 14,
   "id": "89401f4a",
   "metadata": {},
   "outputs": [],
   "source": [
    "# comparing p value with significance level(0.05) "
   ]
  },
  {
   "cell_type": "markdown",
   "id": "df6d6d09",
   "metadata": {},
   "source": [
    "p value: 0.5493991051158094 ≈ 0.55 > 0.05 \n",
    "\n",
    "Failing to reject the null hypothesis"
   ]
  },
  {
   "cell_type": "code",
   "execution_count": 16,
   "id": "4d8492f9",
   "metadata": {},
   "outputs": [],
   "source": [
    "# Conclusion"
   ]
  },
  {
   "cell_type": "markdown",
   "id": "8158af4d",
   "metadata": {},
   "source": [
    "Since p value is greater than the selected significance level of 0.05 ,failing to reject the null hypothesis which means that  there is no dependency between the features \"Region” and “Manager” "
   ]
  }
 ],
 "metadata": {
  "kernelspec": {
   "display_name": "Python 3 (ipykernel)",
   "language": "python",
   "name": "python3"
  },
  "language_info": {
   "codemirror_mode": {
    "name": "ipython",
    "version": 3
   },
   "file_extension": ".py",
   "mimetype": "text/x-python",
   "name": "python",
   "nbconvert_exporter": "python",
   "pygments_lexer": "ipython3",
   "version": "3.9.7"
  }
 },
 "nbformat": 4,
 "nbformat_minor": 5
}
