{
 "cells": [
  {
   "cell_type": "markdown",
   "id": "e1904f97",
   "metadata": {},
   "source": [
    "## <center>Case Study on Correlation and Regression"
   ]
  },
  {
   "cell_type": "markdown",
   "id": "7e8d8bc0",
   "metadata": {},
   "source": [
    "#### Loading the dataset to python environment"
   ]
  },
  {
   "cell_type": "code",
   "execution_count": 1,
   "id": "ebc8ca1d",
   "metadata": {},
   "outputs": [],
   "source": [
    "import pandas as pd\n",
    "Adds= pd.read_csv('Add_sales_data_2018.csv')"
   ]
  },
  {
   "cell_type": "markdown",
   "id": "719f4280",
   "metadata": {},
   "source": [
    "#### Checking the basic details of the dataset"
   ]
  },
  {
   "cell_type": "code",
   "execution_count": 2,
   "id": "da060288",
   "metadata": {},
   "outputs": [
    {
     "data": {
      "text/html": [
       "<div>\n",
       "<style scoped>\n",
       "    .dataframe tbody tr th:only-of-type {\n",
       "        vertical-align: middle;\n",
       "    }\n",
       "\n",
       "    .dataframe tbody tr th {\n",
       "        vertical-align: top;\n",
       "    }\n",
       "\n",
       "    .dataframe thead th {\n",
       "        text-align: right;\n",
       "    }\n",
       "</style>\n",
       "<table border=\"1\" class=\"dataframe\">\n",
       "  <thead>\n",
       "    <tr style=\"text-align: right;\">\n",
       "      <th></th>\n",
       "      <th>Date</th>\n",
       "      <th>Add1(in Thousands)</th>\n",
       "      <th>Add2(in Thousands)</th>\n",
       "      <th>Add3(in Thousands)</th>\n",
       "      <th>Add4(in Thousands)</th>\n",
       "      <th>Add5(in Thousands)</th>\n",
       "      <th>Profit(in Thousands)</th>\n",
       "    </tr>\n",
       "  </thead>\n",
       "  <tbody>\n",
       "    <tr>\n",
       "      <th>0</th>\n",
       "      <td>2018-10-08</td>\n",
       "      <td>208.00</td>\n",
       "      <td>222.25</td>\n",
       "      <td>206.85</td>\n",
       "      <td>216.00</td>\n",
       "      <td>215.15</td>\n",
       "      <td>4093.065</td>\n",
       "    </tr>\n",
       "    <tr>\n",
       "      <th>1</th>\n",
       "      <td>2018-10-05</td>\n",
       "      <td>217.00</td>\n",
       "      <td>218.60</td>\n",
       "      <td>205.90</td>\n",
       "      <td>210.25</td>\n",
       "      <td>209.20</td>\n",
       "      <td>4042.448</td>\n",
       "    </tr>\n",
       "    <tr>\n",
       "      <th>2</th>\n",
       "      <td>2018-10-04</td>\n",
       "      <td>223.50</td>\n",
       "      <td>227.80</td>\n",
       "      <td>216.15</td>\n",
       "      <td>217.25</td>\n",
       "      <td>218.20</td>\n",
       "      <td>4213.819</td>\n",
       "    </tr>\n",
       "    <tr>\n",
       "      <th>3</th>\n",
       "      <td>2018-10-03</td>\n",
       "      <td>230.00</td>\n",
       "      <td>237.50</td>\n",
       "      <td>225.75</td>\n",
       "      <td>226.45</td>\n",
       "      <td>227.60</td>\n",
       "      <td>4391.665</td>\n",
       "    </tr>\n",
       "    <tr>\n",
       "      <th>4</th>\n",
       "      <td>2018-10-01</td>\n",
       "      <td>234.55</td>\n",
       "      <td>234.60</td>\n",
       "      <td>221.05</td>\n",
       "      <td>230.30</td>\n",
       "      <td>230.90</td>\n",
       "      <td>4350.683</td>\n",
       "    </tr>\n",
       "  </tbody>\n",
       "</table>\n",
       "</div>"
      ],
      "text/plain": [
       "         Date  Add1(in Thousands)  Add2(in Thousands)  Add3(in Thousands)  \\\n",
       "0  2018-10-08              208.00              222.25              206.85   \n",
       "1  2018-10-05              217.00              218.60              205.90   \n",
       "2  2018-10-04              223.50              227.80              216.15   \n",
       "3  2018-10-03              230.00              237.50              225.75   \n",
       "4  2018-10-01              234.55              234.60              221.05   \n",
       "\n",
       "   Add4(in Thousands)  Add5(in Thousands)  Profit(in Thousands)  \n",
       "0              216.00              215.15              4093.065  \n",
       "1              210.25              209.20              4042.448  \n",
       "2              217.25              218.20              4213.819  \n",
       "3              226.45              227.60              4391.665  \n",
       "4              230.30              230.90              4350.683  "
      ]
     },
     "execution_count": 2,
     "metadata": {},
     "output_type": "execute_result"
    }
   ],
   "source": [
    "Adds.head()"
   ]
  },
  {
   "cell_type": "code",
   "execution_count": 3,
   "id": "a7a4ba89",
   "metadata": {},
   "outputs": [
    {
     "name": "stdout",
     "output_type": "stream",
     "text": [
      "<class 'pandas.core.frame.DataFrame'>\n",
      "RangeIndex: 205 entries, 0 to 204\n",
      "Data columns (total 7 columns):\n",
      " #   Column                Non-Null Count  Dtype  \n",
      "---  ------                --------------  -----  \n",
      " 0   Date                  205 non-null    object \n",
      " 1   Add1(in Thousands)    205 non-null    float64\n",
      " 2   Add2(in Thousands)    205 non-null    float64\n",
      " 3   Add3(in Thousands)    205 non-null    float64\n",
      " 4   Add4(in Thousands)    205 non-null    float64\n",
      " 5   Add5(in Thousands)    205 non-null    float64\n",
      " 6   Profit(in Thousands)  205 non-null    float64\n",
      "dtypes: float64(6), object(1)\n",
      "memory usage: 11.3+ KB\n"
     ]
    }
   ],
   "source": [
    "Adds.info()"
   ]
  },
  {
   "cell_type": "markdown",
   "id": "f421adb3",
   "metadata": {},
   "source": [
    "There are 205 rows and 7 columns in the data set.Columns are named as Date,Add1(in Thousands),Add2(in Thousands),Add3(in Thousands),Add4(in Thousands),Add5(in Thousands),and Profit(in Thousands).\n",
    "Except date column, all other columns are having 'float64' type data.\n",
    "No nullvalues are present in the data set"
   ]
  },
  {
   "cell_type": "markdown",
   "id": "9324791b",
   "metadata": {},
   "source": [
    "#### Q.1) First of all, check whether there is any relationship between the amount spent for advertising through five different companies and profit generated."
   ]
  },
  {
   "cell_type": "code",
   "execution_count": 4,
   "id": "c0af0683",
   "metadata": {},
   "outputs": [
    {
     "data": {
      "image/png": "[encoded data removed]",
      "text/plain": [
       "<Figure size 432x288 with 2 Axes>"
      ]
     },
     "metadata": {
      "needs_background": "light"
     },
     "output_type": "display_data"
    }
   ],
   "source": [
    "# finding the correlation \n",
    "import matplotlib.pyplot as plt\n",
    "import seaborn as sns\n",
    "corr_matrix=Adds.corr()\n",
    "x=corr_matrix.iloc[:5,5:] # selcting only the required row and column to show the relationship\n",
    "sns.heatmap(x,vmin=0,vmax=1,linewidths=0.2,annot=True)\n",
    "plt.show()"
   ]
  },
  {
   "cell_type": "markdown",
   "id": "bef5a113",
   "metadata": {},
   "source": [
    "Correlation coefficient of +1( approximated by 2 decimal points) between Add2 and Profit shows a perfect positive correlation.  Correlation coefficient of 0.99 between Add1,Add3,Add4,Add5 and Profit generated shows a very high (or near to perfect)positive correlation.This indicates that as amount spent for advertising (through five different companies) increases, profit also increases.In the case of perfect positive correlation,increase is through an exact linear rule."
   ]
  },
  {
   "cell_type": "markdown",
   "id": "5ca051ae",
   "metadata": {},
   "source": [
    "#### Q.2) Build a regression model to predict the profit from the given data and comment your findings on it."
   ]
  },
  {
   "cell_type": "code",
   "execution_count": 5,
   "id": "bce9cee0",
   "metadata": {},
   "outputs": [
    {
     "data": {
      "text/plain": [
       "Index(['Date', 'Add1(in Thousands)', 'Add2(in Thousands)',\n",
       "       'Add3(in Thousands)', 'Add4(in Thousands)', 'Add5(in Thousands)',\n",
       "       'Profit(in Thousands)'],\n",
       "      dtype='object')"
      ]
     },
     "execution_count": 5,
     "metadata": {},
     "output_type": "execute_result"
    }
   ],
   "source": [
    "# Displaying the columns(features) of the dataset \n",
    "Adds.columns"
   ]
  },
  {
   "cell_type": "code",
   "execution_count": 6,
   "id": "048bb0ca",
   "metadata": {},
   "outputs": [],
   "source": [
    "#isolating into dependent and independent variable.\n",
    "#Here dependent feature is profit and independent features are amount spent for advertising through five different companies.\n",
    "y=Adds['Profit(in Thousands)']\n",
    "X=Adds.drop(['Date','Profit(in Thousands)'],axis=1)"
   ]
  },
  {
   "cell_type": "code",
   "execution_count": 7,
   "id": "74bdcdf6",
   "metadata": {},
   "outputs": [],
   "source": [
    "# splitting into test and training set(supervised learning)\n",
    "# major part of data to be given to training,here =0.75\n",
    "from sklearn.model_selection import train_test_split\n",
    "X_train,X_test,y_train,y_test=train_test_split(X,y,random_state=42,test_size=0.25)"
   ]
  },
  {
   "cell_type": "code",
   "execution_count": 8,
   "id": "f2cd511a",
   "metadata": {},
   "outputs": [],
   "source": [
    "from sklearn import linear_model"
   ]
  },
  {
   "cell_type": "code",
   "execution_count": 9,
   "id": "3cbebaad",
   "metadata": {},
   "outputs": [],
   "source": [
    "lr=linear_model.LinearRegression()\n",
    "model=lr.fit(X_train,y_train) # giving traing data to model"
   ]
  },
  {
   "cell_type": "code",
   "execution_count": 10,
   "id": "96f08218",
   "metadata": {},
   "outputs": [],
   "source": [
    "# model is ready to predict profit"
   ]
  },
  {
   "cell_type": "code",
   "execution_count": 11,
   "id": "63e2dfe3",
   "metadata": {},
   "outputs": [],
   "source": [
    "#storing the predictions of profit for each X_test(amount spent for advertising through five different companies)\n",
    "# using an array named predictions\n",
    "predictions=model.predict(X_test)   "
   ]
  },
  {
   "cell_type": "code",
   "execution_count": 12,
   "id": "3682c097",
   "metadata": {},
   "outputs": [
    {
     "name": "stdout",
     "output_type": "stream",
     "text": [
      "15     4152.066\n",
      "9      4446.441\n",
      "100    5131.898\n",
      "132    4907.560\n",
      "68     5004.282\n",
      "Name: Profit(in Thousands), dtype: float64\n"
     ]
    }
   ],
   "source": [
    "# There is a corresponding profit(observed)for each X-test(amount spent for advertising through five different companies)\n",
    "# printing only the first five values \n",
    "print(y_test.head(5))"
   ]
  },
  {
   "cell_type": "code",
   "execution_count": 13,
   "id": "c8b393a4",
   "metadata": {},
   "outputs": [
    {
     "name": "stdout",
     "output_type": "stream",
     "text": [
      "[4152.066 4446.441 5131.898 4907.56  5004.282]\n"
     ]
    }
   ],
   "source": [
    "# Printing the predicted values for profit\n",
    "print(predictions[:5])"
   ]
  },
  {
   "cell_type": "code",
   "execution_count": 14,
   "id": "9c66dce7",
   "metadata": {},
   "outputs": [],
   "source": [
    "# Difference in observed and predicted value constitute Mean squared Error.\n",
    "from sklearn.metrics import mean_squared_error"
   ]
  },
  {
   "cell_type": "code",
   "execution_count": 15,
   "id": "2cc1beb4",
   "metadata": {},
   "outputs": [
    {
     "name": "stdout",
     "output_type": "stream",
     "text": [
      "MSE is: 0\n"
     ]
    }
   ],
   "source": [
    "print('MSE is:',round(mean_squared_error(y_test,predictions))) # by comparing observed values of profit and predicted value"
   ]
  },
  {
   "cell_type": "markdown",
   "id": "1bb19c95",
   "metadata": {},
   "source": [
    "When a model has no error, the MSE equals zero(usually this doesn’t occur in practice).\n",
    "But in the above said problem ,MSE is found to be zero,this can be due to several reasons: perfect correlation and near to perfect correlation among all the features and smaller sample size. When the model has a high correlation with the training data, model will learn to extract trends from the training set."
   ]
  },
  {
   "cell_type": "code",
   "execution_count": 16,
   "id": "80e18ff1",
   "metadata": {},
   "outputs": [
    {
     "data": {
      "text/html": [
       "<div>\n",
       "<style scoped>\n",
       "    .dataframe tbody tr th:only-of-type {\n",
       "        vertical-align: middle;\n",
       "    }\n",
       "\n",
       "    .dataframe tbody tr th {\n",
       "        vertical-align: top;\n",
       "    }\n",
       "\n",
       "    .dataframe thead th {\n",
       "        text-align: right;\n",
       "    }\n",
       "</style>\n",
       "<table border=\"1\" class=\"dataframe\">\n",
       "  <thead>\n",
       "    <tr style=\"text-align: right;\">\n",
       "      <th></th>\n",
       "      <th>Add1(in Thousands)</th>\n",
       "      <th>Add2(in Thousands)</th>\n",
       "      <th>Add3(in Thousands)</th>\n",
       "      <th>Add4(in Thousands)</th>\n",
       "      <th>Add5(in Thousands)</th>\n",
       "      <th>Profit(in Thousands)</th>\n",
       "    </tr>\n",
       "  </thead>\n",
       "  <tbody>\n",
       "    <tr>\n",
       "      <th>Add1(in Thousands)</th>\n",
       "      <td>1.000000</td>\n",
       "      <td>0.990976</td>\n",
       "      <td>0.986274</td>\n",
       "      <td>0.976365</td>\n",
       "      <td>0.976716</td>\n",
       "      <td>0.991975</td>\n",
       "    </tr>\n",
       "    <tr>\n",
       "      <th>Add2(in Thousands)</th>\n",
       "      <td>0.990976</td>\n",
       "      <td>1.000000</td>\n",
       "      <td>0.987990</td>\n",
       "      <td>0.989921</td>\n",
       "      <td>0.990285</td>\n",
       "      <td>0.999145</td>\n",
       "    </tr>\n",
       "    <tr>\n",
       "      <th>Add3(in Thousands)</th>\n",
       "      <td>0.986274</td>\n",
       "      <td>0.987990</td>\n",
       "      <td>1.000000</td>\n",
       "      <td>0.991343</td>\n",
       "      <td>0.991908</td>\n",
       "      <td>0.993389</td>\n",
       "    </tr>\n",
       "    <tr>\n",
       "      <th>Add4(in Thousands)</th>\n",
       "      <td>0.976365</td>\n",
       "      <td>0.989921</td>\n",
       "      <td>0.991343</td>\n",
       "      <td>1.000000</td>\n",
       "      <td>0.999699</td>\n",
       "      <td>0.993346</td>\n",
       "    </tr>\n",
       "    <tr>\n",
       "      <th>Add5(in Thousands)</th>\n",
       "      <td>0.976716</td>\n",
       "      <td>0.990285</td>\n",
       "      <td>0.991908</td>\n",
       "      <td>0.999699</td>\n",
       "      <td>1.000000</td>\n",
       "      <td>0.993710</td>\n",
       "    </tr>\n",
       "    <tr>\n",
       "      <th>Profit(in Thousands)</th>\n",
       "      <td>0.991975</td>\n",
       "      <td>0.999145</td>\n",
       "      <td>0.993389</td>\n",
       "      <td>0.993346</td>\n",
       "      <td>0.993710</td>\n",
       "      <td>1.000000</td>\n",
       "    </tr>\n",
       "  </tbody>\n",
       "</table>\n",
       "</div>"
      ],
      "text/plain": [
       "                      Add1(in Thousands)  Add2(in Thousands)  \\\n",
       "Add1(in Thousands)              1.000000            0.990976   \n",
       "Add2(in Thousands)              0.990976            1.000000   \n",
       "Add3(in Thousands)              0.986274            0.987990   \n",
       "Add4(in Thousands)              0.976365            0.989921   \n",
       "Add5(in Thousands)              0.976716            0.990285   \n",
       "Profit(in Thousands)            0.991975            0.999145   \n",
       "\n",
       "                      Add3(in Thousands)  Add4(in Thousands)  \\\n",
       "Add1(in Thousands)              0.986274            0.976365   \n",
       "Add2(in Thousands)              0.987990            0.989921   \n",
       "Add3(in Thousands)              1.000000            0.991343   \n",
       "Add4(in Thousands)              0.991343            1.000000   \n",
       "Add5(in Thousands)              0.991908            0.999699   \n",
       "Profit(in Thousands)            0.993389            0.993346   \n",
       "\n",
       "                      Add5(in Thousands)  Profit(in Thousands)  \n",
       "Add1(in Thousands)              0.976716              0.991975  \n",
       "Add2(in Thousands)              0.990285              0.999145  \n",
       "Add3(in Thousands)              0.991908              0.993389  \n",
       "Add4(in Thousands)              0.999699              0.993346  \n",
       "Add5(in Thousands)              1.000000              0.993710  \n",
       "Profit(in Thousands)            0.993710              1.000000  "
      ]
     },
     "execution_count": 16,
     "metadata": {},
     "output_type": "execute_result"
    }
   ],
   "source": [
    "corr_matrix # displaying the correlation matrix to show linear relation among different features of the data set."
   ]
  },
  {
   "cell_type": "markdown",
   "id": "1aa3eae9",
   "metadata": {},
   "source": [
    "#### Q.3) Predict the profit generated by the company, if they wish to spend the following amount for advertisement.\n",
    "##### Add1(in Thousands): 290  ;   Add2(in Thousands): 312 ;   Add3(in Thousands):  309;   Add4(in Thousands):298   ;  Add5(in Thousands): 320"
   ]
  },
  {
   "cell_type": "code",
   "execution_count": 17,
   "id": "c42998ea",
   "metadata": {},
   "outputs": [],
   "source": [
    "data = [{'Add1(in Thousands)':290, 'Add2(in Thousands)': 312, 'Add3(in Thousands)':309,'Add4(in Thousands)':298, 'Add5(in Thousands)': 320, }]\n",
    "# Creates DataFrame.\n",
    "X_new=pd.DataFrame(data)"
   ]
  },
  {
   "cell_type": "code",
   "execution_count": 18,
   "id": "91bc4f0d",
   "metadata": {},
   "outputs": [
    {
     "data": {
      "text/html": [
       "<div>\n",
       "<style scoped>\n",
       "    .dataframe tbody tr th:only-of-type {\n",
       "        vertical-align: middle;\n",
       "    }\n",
       "\n",
       "    .dataframe tbody tr th {\n",
       "        vertical-align: top;\n",
       "    }\n",
       "\n",
       "    .dataframe thead th {\n",
       "        text-align: right;\n",
       "    }\n",
       "</style>\n",
       "<table border=\"1\" class=\"dataframe\">\n",
       "  <thead>\n",
       "    <tr style=\"text-align: right;\">\n",
       "      <th></th>\n",
       "      <th>Add1(in Thousands)</th>\n",
       "      <th>Add2(in Thousands)</th>\n",
       "      <th>Add3(in Thousands)</th>\n",
       "      <th>Add4(in Thousands)</th>\n",
       "      <th>Add5(in Thousands)</th>\n",
       "    </tr>\n",
       "  </thead>\n",
       "  <tbody>\n",
       "    <tr>\n",
       "      <th>0</th>\n",
       "      <td>290</td>\n",
       "      <td>312</td>\n",
       "      <td>309</td>\n",
       "      <td>298</td>\n",
       "      <td>320</td>\n",
       "    </tr>\n",
       "  </tbody>\n",
       "</table>\n",
       "</div>"
      ],
      "text/plain": [
       "   Add1(in Thousands)  Add2(in Thousands)  Add3(in Thousands)  \\\n",
       "0                 290                 312                 309   \n",
       "\n",
       "   Add4(in Thousands)  Add5(in Thousands)  \n",
       "0                 298                 320  "
      ]
     },
     "execution_count": 18,
     "metadata": {},
     "output_type": "execute_result"
    }
   ],
   "source": [
    "X_new"
   ]
  },
  {
   "cell_type": "code",
   "execution_count": 19,
   "id": "d618112b",
   "metadata": {},
   "outputs": [],
   "source": [
    "profit_predicted=model.predict(X_new)"
   ]
  },
  {
   "cell_type": "code",
   "execution_count": 20,
   "id": "c244aaa1",
   "metadata": {},
   "outputs": [
    {
     "data": {
      "text/plain": [
       "array([5820.06])"
      ]
     },
     "execution_count": 20,
     "metadata": {},
     "output_type": "execute_result"
    }
   ],
   "source": [
    "profit_predicted"
   ]
  },
  {
   "cell_type": "markdown",
   "id": "b7c694b4",
   "metadata": {},
   "source": [
    "For the given spending for advertising through five different companies,the profit generated is 5820.06(in Thousands) "
   ]
  }
 ],
 "metadata": {
  "kernelspec": {
   "display_name": "Python 3 (ipykernel)",
   "language": "python",
   "name": "python3"
  },
  "language_info": {
   "codemirror_mode": {
    "name": "ipython",
    "version": 3
   },
   "file_extension": ".py",
   "mimetype": "text/x-python",
   "name": "python",
   "nbconvert_exporter": "python",
   "pygments_lexer": "ipython3",
   "version": "3.9.7"
  }
 },
 "nbformat": 4,
 "nbformat_minor": 5
}
